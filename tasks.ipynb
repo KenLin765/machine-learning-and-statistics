{
 "cells": [
  {
   "attachments": {},
   "cell_type": "markdown",
   "metadata": {},
   "source": [
    "# Tasks\n",
    "\n",
    "Machine Learning and Statistics\n",
    "\n",
    "Winter 2023/24\n",
    "\n",
    "by Kenneth Linehan"
   ]
  },
  {
   "attachments": {},
   "cell_type": "markdown",
   "metadata": {},
   "source": [
    "## Task 1 \n",
    "\n",
    "***\n",
    "\n",
    "> Square roots are difficult to calculate. In Python, you typically use the power operator (a double asterisk) or a package such as `math`. In this task, 1 you should write a function `sqrt(x)` to approximate the square root of a floating point number x without using the power operator or a package.\n",
    "\n",
    "> Rather, you should use the Newton’s method.  Start with an Square Roots via Newton’s Method. initial guess for the square root called $z_0$. You then repeatedly improve it using the following formula, until the difference between some previous guess $z_i$ and the next $z{i+1}$ is less than some threshold, say 0.01.\n",
    "\n",
    "$$ z_{i+1} = z_i − \\frac{z_i × z_i − x} {2z_i} $$\n"
   ]
  },
  {
   "attachments": {},
   "cell_type": "markdown",
   "metadata": {},
   "source": [
    "## Imports                                                                                                         \n",
    "Imports libraries for notebook"
   ]
  },
  {
   "cell_type": "code",
   "execution_count": 50,
   "metadata": {},
   "outputs": [],
   "source": [
    "import numpy as np\n",
    "\n",
    "import matplotlib as plt"
   ]
  },
  {
   "cell_type": "code",
   "execution_count": 51,
   "metadata": {},
   "outputs": [],
   "source": [
    "def sqrt(x):\n",
    "    # initial guess for square root\n",
    "    z = x / 4.0\n",
    "\n",
    "    # Loop until we are accurate enough\n",
    "    for i in range(100):\n",
    "        # Newton's Method for a better approximation\n",
    "        z = z - (((z * z) - x) / (2 * z))\n",
    "\n",
    "    # z should now be an approximation for the square root\n",
    "    return z\n",
    "\n",
    "\n"
   ]
  },
  {
   "cell_type": "code",
   "execution_count": 52,
   "metadata": {},
   "outputs": [
    {
     "data": {
      "text/plain": [
       "1.7320508075688774"
      ]
     },
     "execution_count": 52,
     "metadata": {},
     "output_type": "execute_result"
    }
   ],
   "source": [
    "## Test function on 3\n",
    "\n",
    "sqrt(3)"
   ]
  },
  {
   "cell_type": "code",
   "execution_count": 53,
   "metadata": {},
   "outputs": [
    {
     "data": {
      "text/plain": [
       "1.7320508075688772"
      ]
     },
     "execution_count": 53,
     "metadata": {},
     "output_type": "execute_result"
    }
   ],
   "source": [
    "## Check Pythons value for square root of 3\n",
    "\n",
    "3**0.5"
   ]
  },
  {
   "cell_type": "code",
   "execution_count": 54,
   "metadata": {},
   "outputs": [],
   "source": [
    "## The number that we want to calculate the square root of\n",
    "\n",
    "x = 16"
   ]
  },
  {
   "attachments": {},
   "cell_type": "markdown",
   "metadata": {},
   "source": [
    "### Notes\n",
    "\n",
    "***\n",
    "\n"
   ]
  },
  {
   "attachments": {},
   "cell_type": "markdown",
   "metadata": {},
   "source": [
    "***\n",
    "\n",
    "## End"
   ]
  },
  {
   "attachments": {},
   "cell_type": "markdown",
   "metadata": {},
   "source": [
    "# Task 2"
   ]
  },
  {
   "attachments": {},
   "cell_type": "markdown",
   "metadata": {},
   "source": [
    "Consider the below contingency table based on a survey asking respondents whether they prefer coffee or tea and whether they prefer plain or chocolate biscuits. Use scipy.stats to perform a chi-squared test to see whether there is any evidence of an association between drink preference and biscuit preference in this instance.\n",
    "\n",
    "\n",
    "<table>\n",
    "  <tr>\n",
    "    <th style=\"border: none;\"></th>\n",
    "    <th style=\"border: none;\"></th>\n",
    "    <th style=\"border-right;\"><em>Biscuit</em></th>\n",
    "    <th style=\"border: none;\"></th>\n",
    "  </tr>\n",
    "  <tr>\n",
    "    <th style=\"border: none;\"></th>\n",
    "    <th style=\"border: none;\"></th>\n",
    "    <td style=\"border-right;\"><strong>Chocolate</strong></td>\n",
    "    <td><strong>Plain</strong></td>\n",
    "  </tr>\n",
    "  <tr>\n",
    "    <td><em>Drink</em></td>\n",
    "    <td>Coffee</td>\n",
    "    <td>43</td>\n",
    "    <td>57</td>\n",
    "  </tr>\n",
    "  <tr>\n",
    "    <th style=\"border: none;\"></th>\n",
    "    <td>Tea</td>\n",
    "    <td>56</td>\n",
    "    <td>45</td>\n",
    "  </tr>\n",
    "</table>\n",
    "\n",
    "\n",
    "\n",
    "\n",
    "\n"
   ]
  },
  {
   "attachments": {},
   "cell_type": "markdown",
   "metadata": {},
   "source": [
    "## Imports                                                                                                         \n",
    "Imports libraries for Task 2"
   ]
  },
  {
   "cell_type": "code",
   "execution_count": 55,
   "metadata": {},
   "outputs": [],
   "source": [
    "import numpy as np\n",
    "\n",
    "# Data frames.\n",
    "import pandas as pd\n",
    "\n",
    "# Shuffles.\n",
    "import random\n",
    "\n",
    "# Statistics.\n",
    "import scipy.stats as ss"
   ]
  },
  {
   "attachments": {},
   "cell_type": "markdown",
   "metadata": {},
   "source": [
    "## Creating the raw data\n",
    "\n",
    "In this first part of working with the data, I am going to create all raw data from the choices made by the participants in the survey."
   ]
  },
  {
   "cell_type": "code",
   "execution_count": 56,
   "metadata": {},
   "outputs": [
    {
     "name": "stdout",
     "output_type": "stream",
     "text": [
      "[['Coffee', 'Chocolate'], ['Coffee', 'Chocolate'], ['Coffee', 'Chocolate'], ['Coffee', 'Chocolate'], ['Coffee', 'Chocolate'], ['Coffee', 'Chocolate'], ['Coffee', 'Chocolate'], ['Coffee', 'Chocolate'], ['Coffee', 'Chocolate'], ['Coffee', 'Chocolate'], ['Coffee', 'Chocolate'], ['Coffee', 'Chocolate'], ['Coffee', 'Chocolate'], ['Coffee', 'Chocolate'], ['Coffee', 'Chocolate'], ['Coffee', 'Chocolate'], ['Coffee', 'Chocolate'], ['Coffee', 'Chocolate'], ['Coffee', 'Chocolate'], ['Coffee', 'Chocolate'], ['Coffee', 'Chocolate'], ['Coffee', 'Chocolate'], ['Coffee', 'Chocolate'], ['Coffee', 'Chocolate'], ['Coffee', 'Chocolate'], ['Coffee', 'Chocolate'], ['Coffee', 'Chocolate'], ['Coffee', 'Chocolate'], ['Coffee', 'Chocolate'], ['Coffee', 'Chocolate'], ['Coffee', 'Chocolate'], ['Coffee', 'Chocolate'], ['Coffee', 'Chocolate'], ['Coffee', 'Chocolate'], ['Coffee', 'Chocolate'], ['Coffee', 'Chocolate'], ['Coffee', 'Chocolate'], ['Coffee', 'Chocolate'], ['Coffee', 'Chocolate'], ['Coffee', 'Chocolate'], ['Coffee', 'Chocolate'], ['Coffee', 'Chocolate'], ['Coffee', 'Chocolate']]\n"
     ]
    }
   ],
   "source": [
    "# Forty Three who preferred the drink Coffee and Chocolate\n",
    "coffee_chocolate = [['Coffee', 'Chocolate']] * 43\n",
    "\n",
    "# Show\n",
    "print(coffee_chocolate)\n",
    "\n"
   ]
  },
  {
   "cell_type": "code",
   "execution_count": 57,
   "metadata": {},
   "outputs": [
    {
     "name": "stdout",
     "output_type": "stream",
     "text": [
      "[['Coffee', 'Plain'], ['Coffee', 'Plain'], ['Coffee', 'Plain'], ['Coffee', 'Plain'], ['Coffee', 'Plain'], ['Coffee', 'Plain'], ['Coffee', 'Plain'], ['Coffee', 'Plain'], ['Coffee', 'Plain'], ['Coffee', 'Plain'], ['Coffee', 'Plain'], ['Coffee', 'Plain'], ['Coffee', 'Plain'], ['Coffee', 'Plain'], ['Coffee', 'Plain'], ['Coffee', 'Plain'], ['Coffee', 'Plain'], ['Coffee', 'Plain'], ['Coffee', 'Plain'], ['Coffee', 'Plain'], ['Coffee', 'Plain'], ['Coffee', 'Plain'], ['Coffee', 'Plain'], ['Coffee', 'Plain'], ['Coffee', 'Plain'], ['Coffee', 'Plain'], ['Coffee', 'Plain'], ['Coffee', 'Plain'], ['Coffee', 'Plain'], ['Coffee', 'Plain'], ['Coffee', 'Plain'], ['Coffee', 'Plain'], ['Coffee', 'Plain'], ['Coffee', 'Plain'], ['Coffee', 'Plain'], ['Coffee', 'Plain'], ['Coffee', 'Plain'], ['Coffee', 'Plain'], ['Coffee', 'Plain'], ['Coffee', 'Plain'], ['Coffee', 'Plain'], ['Coffee', 'Plain'], ['Coffee', 'Plain'], ['Coffee', 'Plain'], ['Coffee', 'Plain'], ['Coffee', 'Plain'], ['Coffee', 'Plain'], ['Coffee', 'Plain'], ['Coffee', 'Plain'], ['Coffee', 'Plain'], ['Coffee', 'Plain'], ['Coffee', 'Plain'], ['Coffee', 'Plain'], ['Coffee', 'Plain'], ['Coffee', 'Plain'], ['Coffee', 'Plain'], ['Coffee', 'Plain']]\n"
     ]
    }
   ],
   "source": [
    "# Fifty Seven who preferred the drink Coffee and plain biscuits\n",
    "coffee_plain = [['Coffee', 'Plain']] * 57\n",
    "\n",
    "# Show\n",
    "print(coffee_plain)"
   ]
  },
  {
   "cell_type": "code",
   "execution_count": 58,
   "metadata": {},
   "outputs": [
    {
     "name": "stdout",
     "output_type": "stream",
     "text": [
      "[['Tea', 'Chocolate'], ['Tea', 'Chocolate'], ['Tea', 'Chocolate'], ['Tea', 'Chocolate'], ['Tea', 'Chocolate'], ['Tea', 'Chocolate'], ['Tea', 'Chocolate'], ['Tea', 'Chocolate'], ['Tea', 'Chocolate'], ['Tea', 'Chocolate'], ['Tea', 'Chocolate'], ['Tea', 'Chocolate'], ['Tea', 'Chocolate'], ['Tea', 'Chocolate'], ['Tea', 'Chocolate'], ['Tea', 'Chocolate'], ['Tea', 'Chocolate'], ['Tea', 'Chocolate'], ['Tea', 'Chocolate'], ['Tea', 'Chocolate'], ['Tea', 'Chocolate'], ['Tea', 'Chocolate'], ['Tea', 'Chocolate'], ['Tea', 'Chocolate'], ['Tea', 'Chocolate'], ['Tea', 'Chocolate'], ['Tea', 'Chocolate'], ['Tea', 'Chocolate'], ['Tea', 'Chocolate'], ['Tea', 'Chocolate'], ['Tea', 'Chocolate'], ['Tea', 'Chocolate'], ['Tea', 'Chocolate'], ['Tea', 'Chocolate'], ['Tea', 'Chocolate'], ['Tea', 'Chocolate'], ['Tea', 'Chocolate'], ['Tea', 'Chocolate'], ['Tea', 'Chocolate'], ['Tea', 'Chocolate'], ['Tea', 'Chocolate'], ['Tea', 'Chocolate'], ['Tea', 'Chocolate'], ['Tea', 'Chocolate'], ['Tea', 'Chocolate'], ['Tea', 'Chocolate'], ['Tea', 'Chocolate'], ['Tea', 'Chocolate'], ['Tea', 'Chocolate'], ['Tea', 'Chocolate'], ['Tea', 'Chocolate'], ['Tea', 'Chocolate'], ['Tea', 'Chocolate'], ['Tea', 'Chocolate'], ['Tea', 'Chocolate'], ['Tea', 'Chocolate']]\n"
     ]
    }
   ],
   "source": [
    "# Fifty six who preferred the drink tea and chocolate biscuits\n",
    "tea_chocolate = [['Tea', 'Chocolate']] * 56\n",
    "\n",
    "# Show\n",
    "print(tea_chocolate)"
   ]
  },
  {
   "cell_type": "code",
   "execution_count": 59,
   "metadata": {},
   "outputs": [
    {
     "name": "stdout",
     "output_type": "stream",
     "text": [
      "[['Tea', 'Plain'], ['Tea', 'Plain'], ['Tea', 'Plain'], ['Tea', 'Plain'], ['Tea', 'Plain'], ['Tea', 'Plain'], ['Tea', 'Plain'], ['Tea', 'Plain'], ['Tea', 'Plain'], ['Tea', 'Plain'], ['Tea', 'Plain'], ['Tea', 'Plain'], ['Tea', 'Plain'], ['Tea', 'Plain'], ['Tea', 'Plain'], ['Tea', 'Plain'], ['Tea', 'Plain'], ['Tea', 'Plain'], ['Tea', 'Plain'], ['Tea', 'Plain'], ['Tea', 'Plain'], ['Tea', 'Plain'], ['Tea', 'Plain'], ['Tea', 'Plain'], ['Tea', 'Plain'], ['Tea', 'Plain'], ['Tea', 'Plain'], ['Tea', 'Plain'], ['Tea', 'Plain'], ['Tea', 'Plain'], ['Tea', 'Plain'], ['Tea', 'Plain'], ['Tea', 'Plain'], ['Tea', 'Plain'], ['Tea', 'Plain'], ['Tea', 'Plain'], ['Tea', 'Plain'], ['Tea', 'Plain'], ['Tea', 'Plain'], ['Tea', 'Plain'], ['Tea', 'Plain'], ['Tea', 'Plain'], ['Tea', 'Plain'], ['Tea', 'Plain'], ['Tea', 'Plain']]\n"
     ]
    }
   ],
   "source": [
    "# Forty Three who preferred the drink tea and plain biscuits\n",
    "tea_plain = [['Tea', 'Plain']] * 45\n",
    "\n",
    "# Show\n",
    "print(tea_plain)"
   ]
  },
  {
   "cell_type": "code",
   "execution_count": 79,
   "metadata": {},
   "outputs": [
    {
     "name": "stdout",
     "output_type": "stream",
     "text": [
      "[['Tea', 'Chocolate'], ['Tea', 'Plain'], ['Tea', 'Chocolate'], ['Coffee', 'Plain'], ['Coffee', 'Plain'], ['Coffee', 'Plain'], ['Coffee', 'Plain'], ['Coffee', 'Plain'], ['Coffee', 'Chocolate'], ['Tea', 'Plain'], ['Coffee', 'Plain'], ['Tea', 'Plain'], ['Tea', 'Plain'], ['Tea', 'Chocolate'], ['Tea', 'Chocolate'], ['Coffee', 'Chocolate'], ['Tea', 'Chocolate'], ['Coffee', 'Chocolate'], ['Tea', 'Plain'], ['Coffee', 'Plain'], ['Coffee', 'Chocolate'], ['Tea', 'Chocolate'], ['Coffee', 'Plain'], ['Tea', 'Chocolate'], ['Tea', 'Plain'], ['Tea', 'Chocolate'], ['Tea', 'Chocolate'], ['Tea', 'Plain'], ['Coffee', 'Chocolate'], ['Coffee', 'Plain'], ['Coffee', 'Plain'], ['Coffee', 'Plain'], ['Coffee', 'Plain'], ['Coffee', 'Plain'], ['Coffee', 'Plain'], ['Tea', 'Plain'], ['Coffee', 'Chocolate'], ['Coffee', 'Chocolate'], ['Tea', 'Chocolate'], ['Tea', 'Chocolate'], ['Coffee', 'Chocolate'], ['Coffee', 'Plain'], ['Coffee', 'Plain'], ['Tea', 'Plain'], ['Coffee', 'Plain'], ['Coffee', 'Plain'], ['Coffee', 'Plain'], ['Tea', 'Chocolate'], ['Coffee', 'Plain'], ['Coffee', 'Plain'], ['Tea', 'Chocolate'], ['Tea', 'Chocolate'], ['Tea', 'Chocolate'], ['Coffee', 'Chocolate'], ['Tea', 'Plain'], ['Coffee', 'Plain'], ['Tea', 'Plain'], ['Tea', 'Chocolate'], ['Coffee', 'Chocolate'], ['Tea', 'Plain'], ['Coffee', 'Plain'], ['Tea', 'Chocolate'], ['Coffee', 'Plain'], ['Coffee', 'Plain'], ['Coffee', 'Chocolate'], ['Tea', 'Plain'], ['Tea', 'Chocolate'], ['Coffee', 'Chocolate'], ['Tea', 'Plain'], ['Tea', 'Chocolate'], ['Coffee', 'Chocolate'], ['Tea', 'Chocolate'], ['Tea', 'Chocolate'], ['Tea', 'Plain'], ['Tea', 'Chocolate'], ['Tea', 'Chocolate'], ['Tea', 'Chocolate'], ['Coffee', 'Plain'], ['Coffee', 'Chocolate'], ['Coffee', 'Plain'], ['Coffee', 'Chocolate'], ['Tea', 'Plain'], ['Tea', 'Plain'], ['Tea', 'Chocolate'], ['Coffee', 'Chocolate'], ['Coffee', 'Plain'], ['Coffee', 'Plain'], ['Tea', 'Plain'], ['Coffee', 'Plain'], ['Coffee', 'Chocolate'], ['Coffee', 'Chocolate'], ['Tea', 'Chocolate'], ['Tea', 'Chocolate'], ['Tea', 'Chocolate'], ['Coffee', 'Plain'], ['Coffee', 'Plain'], ['Coffee', 'Chocolate'], ['Coffee', 'Chocolate'], ['Coffee', 'Chocolate'], ['Tea', 'Chocolate'], ['Tea', 'Chocolate'], ['Tea', 'Plain'], ['Coffee', 'Plain'], ['Tea', 'Chocolate'], ['Coffee', 'Chocolate'], ['Coffee', 'Chocolate'], ['Coffee', 'Plain'], ['Coffee', 'Chocolate'], ['Tea', 'Chocolate'], ['Tea', 'Plain'], ['Coffee', 'Plain'], ['Tea', 'Chocolate'], ['Tea', 'Plain'], ['Coffee', 'Chocolate'], ['Tea', 'Chocolate'], ['Tea', 'Plain'], ['Tea', 'Plain'], ['Tea', 'Plain'], ['Coffee', 'Plain'], ['Coffee', 'Chocolate'], ['Tea', 'Plain'], ['Tea', 'Chocolate'], ['Coffee', 'Chocolate'], ['Tea', 'Plain'], ['Coffee', 'Chocolate'], ['Tea', 'Chocolate'], ['Coffee', 'Plain'], ['Tea', 'Chocolate'], ['Tea', 'Plain'], ['Coffee', 'Chocolate'], ['Tea', 'Plain'], ['Coffee', 'Plain'], ['Coffee', 'Chocolate'], ['Coffee', 'Plain'], ['Tea', 'Plain'], ['Coffee', 'Plain'], ['Coffee', 'Plain'], ['Tea', 'Chocolate'], ['Tea', 'Plain'], ['Tea', 'Plain'], ['Coffee', 'Plain'], ['Coffee', 'Chocolate'], ['Tea', 'Chocolate'], ['Tea', 'Chocolate'], ['Coffee', 'Chocolate'], ['Coffee', 'Chocolate'], ['Coffee', 'Plain'], ['Coffee', 'Plain'], ['Coffee', 'Plain'], ['Tea', 'Chocolate'], ['Coffee', 'Plain'], ['Tea', 'Plain'], ['Tea', 'Plain'], ['Coffee', 'Chocolate'], ['Tea', 'Plain'], ['Coffee', 'Chocolate'], ['Coffee', 'Chocolate'], ['Coffee', 'Plain'], ['Tea', 'Chocolate'], ['Tea', 'Chocolate'], ['Tea', 'Plain'], ['Coffee', 'Chocolate'], ['Tea', 'Chocolate'], ['Tea', 'Plain'], ['Coffee', 'Plain'], ['Tea', 'Plain'], ['Tea', 'Chocolate'], ['Tea', 'Plain'], ['Tea', 'Plain'], ['Tea', 'Chocolate'], ['Coffee', 'Plain'], ['Tea', 'Chocolate'], ['Tea', 'Chocolate'], ['Coffee', 'Plain'], ['Coffee', 'Plain'], ['Coffee', 'Plain'], ['Tea', 'Chocolate'], ['Coffee', 'Plain'], ['Coffee', 'Chocolate'], ['Coffee', 'Chocolate'], ['Tea', 'Chocolate'], ['Tea', 'Plain'], ['Tea', 'Chocolate'], ['Coffee', 'Chocolate'], ['Coffee', 'Plain'], ['Tea', 'Plain'], ['Coffee', 'Chocolate'], ['Tea', 'Chocolate'], ['Coffee', 'Plain'], ['Tea', 'Chocolate'], ['Coffee', 'Plain'], ['Tea', 'Chocolate'], ['Tea', 'Chocolate'], ['Coffee', 'Chocolate'], ['Coffee', 'Chocolate'], ['Tea', 'Plain'], ['Tea', 'Plain'], ['Tea', 'Plain'], ['Tea', 'Chocolate'], ['Tea', 'Plain'], ['Coffee', 'Plain']]\n"
     ]
    }
   ],
   "source": [
    "# Raw data, merge the four lists.\n",
    "raw_data = coffee_chocolate + coffee_plain + tea_chocolate + tea_plain\n",
    "\n",
    "# Shuffle and split the data randomly\n",
    "shuffled_data = random.sample(raw_data, len(raw_data))\n",
    "\n",
    "# Show the shuffled and split data.\n",
    "print(shuffled_data)\n"
   ]
  },
  {
   "attachments": {},
   "cell_type": "markdown",
   "metadata": {},
   "source": [
    "## Contingency Table\n",
    "\n",
    "***"
   ]
  }
 ],
 "metadata": {
  "kernelspec": {
   "display_name": "base",
   "language": "python",
   "name": "python3"
  },
  "language_info": {
   "codemirror_mode": {
    "name": "ipython",
    "version": 3
   },
   "file_extension": ".py",
   "mimetype": "text/x-python",
   "name": "python",
   "nbconvert_exporter": "python",
   "pygments_lexer": "ipython3",
   "version": "3.9.7"
  },
  "orig_nbformat": 4
 },
 "nbformat": 4,
 "nbformat_minor": 2
}
