{
 "cells": [
  {
   "attachments": {},
   "cell_type": "markdown",
   "metadata": {},
   "source": [
    "# Tasks\n",
    "\n",
    "Machine Learning and Statistics\n",
    "\n",
    "Winter 2023/24\n",
    "\n",
    "by Kenneth Linehan"
   ]
  },
  {
   "attachments": {},
   "cell_type": "markdown",
   "metadata": {},
   "source": [
    "## Task 1 \n",
    "\n",
    "***\n",
    "\n",
    "> Square roots are difficult to calculate. In Python, you typically use the power operator (a double asterisk) or a package such as `math`. In this task, 1 you should write a function `sqrt(x)` to approximate the square root of a floating point number x without using the power operator or a package.\n",
    "\n",
    "> Rather, you should use the Newton’s method.  Start with an Square Roots via Newton’s Method. initial guess for the square root called $z_0$. You then repeatedly improve it using the following formula, until the difference between some previous guess $z_i$ and the next $z{i+1}$ is less than some threshold, say 0.01.\n",
    "\n",
    "$$ z_{i+1} = z_i − \\frac{z_i × z_i − x} {2z_i} $$\n"
   ]
  },
  {
   "attachments": {},
   "cell_type": "markdown",
   "metadata": {},
   "source": [
    "## Imports                                                                                                         \n",
    "Imports libraries for notebook"
   ]
  },
  {
   "cell_type": "code",
   "execution_count": 101,
   "metadata": {},
   "outputs": [],
   "source": [
    "# Data frames.\n",
    "import pandas as pd\n",
    "\n",
    "# Shuffles.\n",
    "import random\n",
    "\n",
    "# Statistics.\n",
    "import scipy.stats as ss"
   ]
  },
  {
   "cell_type": "code",
   "execution_count": 102,
   "metadata": {},
   "outputs": [],
   "source": [
    "def sqrt(x):\n",
    "    # initial guess for square root\n",
    "    z = x / 4.0\n",
    "\n",
    "    # Loop until we are accurate enough\n",
    "    for i in range(100):\n",
    "        # Newton's Method for a better approximation\n",
    "        z = z - (((z * z) - x) / (2 * z))\n",
    "\n",
    "    # z should now be an approximation for the square root\n",
    "    return z\n",
    "\n",
    "\n"
   ]
  },
  {
   "cell_type": "code",
   "execution_count": 103,
   "metadata": {},
   "outputs": [
    {
     "data": {
      "text/plain": [
       "1.7320508075688774"
      ]
     },
     "execution_count": 103,
     "metadata": {},
     "output_type": "execute_result"
    }
   ],
   "source": [
    "## Test function on 3\n",
    "\n",
    "sqrt(3)"
   ]
  },
  {
   "cell_type": "code",
   "execution_count": 104,
   "metadata": {},
   "outputs": [
    {
     "data": {
      "text/plain": [
       "1.7320508075688772"
      ]
     },
     "execution_count": 104,
     "metadata": {},
     "output_type": "execute_result"
    }
   ],
   "source": [
    "## Check Pythons value for square root of 3\n",
    "\n",
    "3**0.5"
   ]
  },
  {
   "cell_type": "code",
   "execution_count": 105,
   "metadata": {},
   "outputs": [],
   "source": [
    "## The number that we want to calculate the square root of\n",
    "\n",
    "x = 16"
   ]
  },
  {
   "attachments": {},
   "cell_type": "markdown",
   "metadata": {},
   "source": [
    "### Notes\n",
    "\n",
    "***\n",
    "\n"
   ]
  },
  {
   "attachments": {},
   "cell_type": "markdown",
   "metadata": {},
   "source": [
    "***\n",
    "\n",
    "## End"
   ]
  },
  {
   "attachments": {},
   "cell_type": "markdown",
   "metadata": {},
   "source": [
    "# Task 2"
   ]
  },
  {
   "attachments": {},
   "cell_type": "markdown",
   "metadata": {},
   "source": [
    "Consider the below contingency table based on a survey asking respondents whether they prefer coffee or tea and whether they prefer plain or chocolate biscuits. Use scipy.stats to perform a chi-squared test to see whether there is any evidence of an association between drink preference and biscuit preference in this instance.\n",
    "\n",
    "\n",
    "<table>\n",
    "  <tr>\n",
    "    <th style=\"border: none;\"></th>\n",
    "    <th style=\"border: none;\"></th>\n",
    "    <th style=\"border-right;\"><em>Biscuit</em></th>\n",
    "    <th style=\"border: none;\"></th>\n",
    "  </tr>\n",
    "  <tr>\n",
    "    <th style=\"border: none;\"></th>\n",
    "    <th style=\"border: none;\"></th>\n",
    "    <td style=\"border-right;\"><strong>Chocolate</strong></td>\n",
    "    <td><strong>Plain</strong></td>\n",
    "  </tr>\n",
    "  <tr>\n",
    "    <td><em>Drink</em></td>\n",
    "    <td>Coffee</td>\n",
    "    <td>43</td>\n",
    "    <td>57</td>\n",
    "  </tr>\n",
    "  <tr>\n",
    "    <th style=\"border: none;\"></th>\n",
    "    <td>Tea</td>\n",
    "    <td>56</td>\n",
    "    <td>45</td>\n",
    "  </tr>\n",
    "</table>\n",
    "\n",
    "\n",
    "\n",
    "\n",
    "\n"
   ]
  },
  {
   "attachments": {},
   "cell_type": "markdown",
   "metadata": {},
   "source": [
    "## Imports                                                                                                         \n",
    "Imports libraries for Task 2"
   ]
  },
  {
   "cell_type": "code",
   "execution_count": 2,
   "metadata": {},
   "outputs": [],
   "source": [
    "import numpy as np\n",
    "\n",
    "# Data frames.\n",
    "import pandas as pd\n",
    "\n",
    "# Shuffles.\n",
    "import random\n",
    "\n",
    "# Statistics.\n",
    "import scipy.stats as ss"
   ]
  },
  {
   "attachments": {},
   "cell_type": "markdown",
   "metadata": {},
   "source": [
    "## Creating the raw data\n",
    "\n",
    "In this first part of working with the data, I am going to create all raw data from the choices made by the participants in the survey."
   ]
  },
  {
   "cell_type": "code",
   "execution_count": 3,
   "metadata": {},
   "outputs": [
    {
     "name": "stdout",
     "output_type": "stream",
     "text": [
      "[['Coffee', 'Chocolate'], ['Coffee', 'Chocolate'], ['Coffee', 'Chocolate'], ['Coffee', 'Chocolate'], ['Coffee', 'Chocolate'], ['Coffee', 'Chocolate'], ['Coffee', 'Chocolate'], ['Coffee', 'Chocolate'], ['Coffee', 'Chocolate'], ['Coffee', 'Chocolate'], ['Coffee', 'Chocolate'], ['Coffee', 'Chocolate'], ['Coffee', 'Chocolate'], ['Coffee', 'Chocolate'], ['Coffee', 'Chocolate'], ['Coffee', 'Chocolate'], ['Coffee', 'Chocolate'], ['Coffee', 'Chocolate'], ['Coffee', 'Chocolate'], ['Coffee', 'Chocolate'], ['Coffee', 'Chocolate'], ['Coffee', 'Chocolate'], ['Coffee', 'Chocolate'], ['Coffee', 'Chocolate'], ['Coffee', 'Chocolate'], ['Coffee', 'Chocolate'], ['Coffee', 'Chocolate'], ['Coffee', 'Chocolate'], ['Coffee', 'Chocolate'], ['Coffee', 'Chocolate'], ['Coffee', 'Chocolate'], ['Coffee', 'Chocolate'], ['Coffee', 'Chocolate'], ['Coffee', 'Chocolate'], ['Coffee', 'Chocolate'], ['Coffee', 'Chocolate'], ['Coffee', 'Chocolate'], ['Coffee', 'Chocolate'], ['Coffee', 'Chocolate'], ['Coffee', 'Chocolate'], ['Coffee', 'Chocolate'], ['Coffee', 'Chocolate'], ['Coffee', 'Chocolate']]\n"
     ]
    }
   ],
   "source": [
    "# Forty Three who preferred the drink Coffee and Chocolate\n",
    "coffee_chocolate = [['Coffee', 'Chocolate']] * 43\n",
    "\n",
    "# Show\n",
    "print(coffee_chocolate)\n",
    "\n"
   ]
  },
  {
   "cell_type": "code",
   "execution_count": 4,
   "metadata": {},
   "outputs": [
    {
     "name": "stdout",
     "output_type": "stream",
     "text": [
      "[['Coffee', 'Plain'], ['Coffee', 'Plain'], ['Coffee', 'Plain'], ['Coffee', 'Plain'], ['Coffee', 'Plain'], ['Coffee', 'Plain'], ['Coffee', 'Plain'], ['Coffee', 'Plain'], ['Coffee', 'Plain'], ['Coffee', 'Plain'], ['Coffee', 'Plain'], ['Coffee', 'Plain'], ['Coffee', 'Plain'], ['Coffee', 'Plain'], ['Coffee', 'Plain'], ['Coffee', 'Plain'], ['Coffee', 'Plain'], ['Coffee', 'Plain'], ['Coffee', 'Plain'], ['Coffee', 'Plain'], ['Coffee', 'Plain'], ['Coffee', 'Plain'], ['Coffee', 'Plain'], ['Coffee', 'Plain'], ['Coffee', 'Plain'], ['Coffee', 'Plain'], ['Coffee', 'Plain'], ['Coffee', 'Plain'], ['Coffee', 'Plain'], ['Coffee', 'Plain'], ['Coffee', 'Plain'], ['Coffee', 'Plain'], ['Coffee', 'Plain'], ['Coffee', 'Plain'], ['Coffee', 'Plain'], ['Coffee', 'Plain'], ['Coffee', 'Plain'], ['Coffee', 'Plain'], ['Coffee', 'Plain'], ['Coffee', 'Plain'], ['Coffee', 'Plain'], ['Coffee', 'Plain'], ['Coffee', 'Plain'], ['Coffee', 'Plain'], ['Coffee', 'Plain'], ['Coffee', 'Plain'], ['Coffee', 'Plain'], ['Coffee', 'Plain'], ['Coffee', 'Plain'], ['Coffee', 'Plain'], ['Coffee', 'Plain'], ['Coffee', 'Plain'], ['Coffee', 'Plain'], ['Coffee', 'Plain'], ['Coffee', 'Plain'], ['Coffee', 'Plain'], ['Coffee', 'Plain']]\n"
     ]
    }
   ],
   "source": [
    "# Fifty Seven who preferred the drink Coffee and plain biscuits\n",
    "coffee_plain = [['Coffee', 'Plain']] * 57\n",
    "\n",
    "# Show\n",
    "print(coffee_plain)"
   ]
  },
  {
   "cell_type": "code",
   "execution_count": 5,
   "metadata": {},
   "outputs": [
    {
     "name": "stdout",
     "output_type": "stream",
     "text": [
      "[['Tea', 'Chocolate'], ['Tea', 'Chocolate'], ['Tea', 'Chocolate'], ['Tea', 'Chocolate'], ['Tea', 'Chocolate'], ['Tea', 'Chocolate'], ['Tea', 'Chocolate'], ['Tea', 'Chocolate'], ['Tea', 'Chocolate'], ['Tea', 'Chocolate'], ['Tea', 'Chocolate'], ['Tea', 'Chocolate'], ['Tea', 'Chocolate'], ['Tea', 'Chocolate'], ['Tea', 'Chocolate'], ['Tea', 'Chocolate'], ['Tea', 'Chocolate'], ['Tea', 'Chocolate'], ['Tea', 'Chocolate'], ['Tea', 'Chocolate'], ['Tea', 'Chocolate'], ['Tea', 'Chocolate'], ['Tea', 'Chocolate'], ['Tea', 'Chocolate'], ['Tea', 'Chocolate'], ['Tea', 'Chocolate'], ['Tea', 'Chocolate'], ['Tea', 'Chocolate'], ['Tea', 'Chocolate'], ['Tea', 'Chocolate'], ['Tea', 'Chocolate'], ['Tea', 'Chocolate'], ['Tea', 'Chocolate'], ['Tea', 'Chocolate'], ['Tea', 'Chocolate'], ['Tea', 'Chocolate'], ['Tea', 'Chocolate'], ['Tea', 'Chocolate'], ['Tea', 'Chocolate'], ['Tea', 'Chocolate'], ['Tea', 'Chocolate'], ['Tea', 'Chocolate'], ['Tea', 'Chocolate'], ['Tea', 'Chocolate'], ['Tea', 'Chocolate'], ['Tea', 'Chocolate'], ['Tea', 'Chocolate'], ['Tea', 'Chocolate'], ['Tea', 'Chocolate'], ['Tea', 'Chocolate'], ['Tea', 'Chocolate'], ['Tea', 'Chocolate'], ['Tea', 'Chocolate'], ['Tea', 'Chocolate'], ['Tea', 'Chocolate'], ['Tea', 'Chocolate']]\n"
     ]
    }
   ],
   "source": [
    "# Fifty six who preferred the drink tea and chocolate biscuits\n",
    "tea_chocolate = [['Tea', 'Chocolate']] * 56\n",
    "\n",
    "# Show\n",
    "print(tea_chocolate)"
   ]
  },
  {
   "cell_type": "code",
   "execution_count": 6,
   "metadata": {},
   "outputs": [
    {
     "name": "stdout",
     "output_type": "stream",
     "text": [
      "[['Tea', 'Plain'], ['Tea', 'Plain'], ['Tea', 'Plain'], ['Tea', 'Plain'], ['Tea', 'Plain'], ['Tea', 'Plain'], ['Tea', 'Plain'], ['Tea', 'Plain'], ['Tea', 'Plain'], ['Tea', 'Plain'], ['Tea', 'Plain'], ['Tea', 'Plain'], ['Tea', 'Plain'], ['Tea', 'Plain'], ['Tea', 'Plain'], ['Tea', 'Plain'], ['Tea', 'Plain'], ['Tea', 'Plain'], ['Tea', 'Plain'], ['Tea', 'Plain'], ['Tea', 'Plain'], ['Tea', 'Plain'], ['Tea', 'Plain'], ['Tea', 'Plain'], ['Tea', 'Plain'], ['Tea', 'Plain'], ['Tea', 'Plain'], ['Tea', 'Plain'], ['Tea', 'Plain'], ['Tea', 'Plain'], ['Tea', 'Plain'], ['Tea', 'Plain'], ['Tea', 'Plain'], ['Tea', 'Plain'], ['Tea', 'Plain'], ['Tea', 'Plain'], ['Tea', 'Plain'], ['Tea', 'Plain'], ['Tea', 'Plain'], ['Tea', 'Plain'], ['Tea', 'Plain'], ['Tea', 'Plain'], ['Tea', 'Plain'], ['Tea', 'Plain'], ['Tea', 'Plain']]\n"
     ]
    }
   ],
   "source": [
    "# Forty Three who preferred the drink tea and plain biscuits\n",
    "tea_plain = [['Tea', 'Plain']] * 45\n",
    "\n",
    "# Show\n",
    "print(tea_plain)"
   ]
  },
  {
   "cell_type": "code",
   "execution_count": 7,
   "metadata": {},
   "outputs": [
    {
     "name": "stdout",
     "output_type": "stream",
     "text": [
      "[['Coffee', 'Chocolate'], ['Coffee', 'Chocolate'], ['Tea', 'Chocolate'], ['Coffee', 'Chocolate'], ['Tea', 'Chocolate'], ['Coffee', 'Chocolate'], ['Coffee', 'Plain'], ['Tea', 'Chocolate'], ['Tea', 'Chocolate'], ['Coffee', 'Chocolate'], ['Tea', 'Plain'], ['Tea', 'Chocolate'], ['Coffee', 'Plain'], ['Tea', 'Chocolate'], ['Tea', 'Chocolate'], ['Tea', 'Chocolate'], ['Tea', 'Chocolate'], ['Coffee', 'Plain'], ['Tea', 'Plain'], ['Tea', 'Chocolate'], ['Coffee', 'Plain'], ['Coffee', 'Plain'], ['Tea', 'Chocolate'], ['Tea', 'Plain'], ['Coffee', 'Chocolate'], ['Tea', 'Plain'], ['Tea', 'Plain'], ['Tea', 'Plain'], ['Tea', 'Chocolate'], ['Tea', 'Chocolate'], ['Tea', 'Plain'], ['Tea', 'Chocolate'], ['Coffee', 'Plain'], ['Coffee', 'Plain'], ['Tea', 'Chocolate'], ['Coffee', 'Plain'], ['Coffee', 'Plain'], ['Coffee', 'Chocolate'], ['Coffee', 'Chocolate'], ['Coffee', 'Chocolate'], ['Tea', 'Plain'], ['Tea', 'Chocolate'], ['Coffee', 'Plain'], ['Tea', 'Plain'], ['Coffee', 'Chocolate'], ['Coffee', 'Plain'], ['Coffee', 'Chocolate'], ['Coffee', 'Plain'], ['Coffee', 'Plain'], ['Tea', 'Plain'], ['Coffee', 'Chocolate'], ['Tea', 'Chocolate'], ['Coffee', 'Plain'], ['Coffee', 'Plain'], ['Tea', 'Plain'], ['Tea', 'Plain'], ['Tea', 'Plain'], ['Tea', 'Plain'], ['Coffee', 'Chocolate'], ['Tea', 'Plain'], ['Coffee', 'Chocolate'], ['Coffee', 'Chocolate'], ['Coffee', 'Plain'], ['Coffee', 'Plain'], ['Coffee', 'Plain'], ['Coffee', 'Plain'], ['Tea', 'Chocolate'], ['Coffee', 'Plain'], ['Tea', 'Plain'], ['Coffee', 'Plain'], ['Tea', 'Chocolate'], ['Tea', 'Chocolate'], ['Tea', 'Chocolate'], ['Coffee', 'Plain'], ['Tea', 'Chocolate'], ['Tea', 'Chocolate'], ['Tea', 'Chocolate'], ['Tea', 'Chocolate'], ['Coffee', 'Chocolate'], ['Coffee', 'Chocolate'], ['Tea', 'Plain'], ['Coffee', 'Plain'], ['Tea', 'Plain'], ['Coffee', 'Chocolate'], ['Tea', 'Plain'], ['Coffee', 'Chocolate'], ['Tea', 'Plain'], ['Coffee', 'Chocolate'], ['Tea', 'Plain'], ['Tea', 'Plain'], ['Coffee', 'Plain'], ['Tea', 'Chocolate'], ['Tea', 'Chocolate'], ['Tea', 'Plain'], ['Tea', 'Chocolate'], ['Coffee', 'Chocolate'], ['Tea', 'Plain'], ['Tea', 'Plain'], ['Tea', 'Chocolate'], ['Tea', 'Plain'], ['Coffee', 'Chocolate'], ['Tea', 'Plain'], ['Tea', 'Chocolate'], ['Coffee', 'Plain'], ['Coffee', 'Plain'], ['Tea', 'Chocolate'], ['Coffee', 'Chocolate'], ['Coffee', 'Chocolate'], ['Tea', 'Plain'], ['Coffee', 'Plain'], ['Tea', 'Plain'], ['Tea', 'Chocolate'], ['Tea', 'Chocolate'], ['Tea', 'Plain'], ['Coffee', 'Chocolate'], ['Coffee', 'Chocolate'], ['Tea', 'Plain'], ['Coffee', 'Plain'], ['Tea', 'Chocolate'], ['Coffee', 'Chocolate'], ['Tea', 'Plain'], ['Coffee', 'Plain'], ['Coffee', 'Plain'], ['Coffee', 'Plain'], ['Tea', 'Chocolate'], ['Tea', 'Plain'], ['Coffee', 'Plain'], ['Coffee', 'Chocolate'], ['Coffee', 'Plain'], ['Coffee', 'Chocolate'], ['Tea', 'Chocolate'], ['Tea', 'Plain'], ['Coffee', 'Plain'], ['Coffee', 'Chocolate'], ['Coffee', 'Plain'], ['Coffee', 'Chocolate'], ['Tea', 'Plain'], ['Coffee', 'Plain'], ['Tea', 'Chocolate'], ['Tea', 'Plain'], ['Tea', 'Plain'], ['Coffee', 'Plain'], ['Tea', 'Plain'], ['Coffee', 'Plain'], ['Coffee', 'Plain'], ['Coffee', 'Chocolate'], ['Coffee', 'Chocolate'], ['Coffee', 'Plain'], ['Tea', 'Chocolate'], ['Coffee', 'Plain'], ['Coffee', 'Plain'], ['Coffee', 'Chocolate'], ['Coffee', 'Plain'], ['Coffee', 'Chocolate'], ['Tea', 'Plain'], ['Tea', 'Plain'], ['Tea', 'Plain'], ['Tea', 'Chocolate'], ['Coffee', 'Plain'], ['Coffee', 'Plain'], ['Coffee', 'Plain'], ['Tea', 'Plain'], ['Tea', 'Chocolate'], ['Coffee', 'Plain'], ['Coffee', 'Plain'], ['Coffee', 'Chocolate'], ['Tea', 'Chocolate'], ['Coffee', 'Plain'], ['Tea', 'Chocolate'], ['Tea', 'Chocolate'], ['Coffee', 'Chocolate'], ['Coffee', 'Plain'], ['Coffee', 'Plain'], ['Tea', 'Chocolate'], ['Coffee', 'Chocolate'], ['Coffee', 'Chocolate'], ['Coffee', 'Plain'], ['Tea', 'Chocolate'], ['Coffee', 'Plain'], ['Tea', 'Chocolate'], ['Coffee', 'Chocolate'], ['Tea', 'Chocolate'], ['Coffee', 'Plain'], ['Tea', 'Plain'], ['Tea', 'Chocolate'], ['Tea', 'Plain'], ['Tea', 'Chocolate'], ['Tea', 'Chocolate'], ['Tea', 'Plain'], ['Coffee', 'Chocolate'], ['Coffee', 'Plain'], ['Coffee', 'Plain'], ['Coffee', 'Plain'], ['Coffee', 'Chocolate'], ['Tea', 'Chocolate'], ['Tea', 'Chocolate'], ['Tea', 'Chocolate'], ['Tea', 'Chocolate'], ['Coffee', 'Chocolate'], ['Tea', 'Chocolate'], ['Tea', 'Chocolate']]\n"
     ]
    }
   ],
   "source": [
    "# Raw data, merge the four lists.\n",
    "raw_data = coffee_chocolate + coffee_plain + tea_chocolate + tea_plain\n",
    "\n",
    "# Shuffle and split the data randomly\n",
    "shuffled_data = random.sample(raw_data, len(raw_data))\n",
    "\n",
    "# Show the shuffled and split data.\n",
    "print(shuffled_data)\n"
   ]
  },
  {
   "cell_type": "code",
   "execution_count": 8,
   "metadata": {},
   "outputs": [
    {
     "data": {
      "text/plain": [
       "(('Coffee',\n",
       "  'Coffee',\n",
       "  'Coffee',\n",
       "  'Coffee',\n",
       "  'Coffee',\n",
       "  'Coffee',\n",
       "  'Coffee',\n",
       "  'Coffee',\n",
       "  'Coffee',\n",
       "  'Coffee',\n",
       "  'Coffee',\n",
       "  'Coffee',\n",
       "  'Coffee',\n",
       "  'Coffee',\n",
       "  'Coffee',\n",
       "  'Coffee',\n",
       "  'Coffee',\n",
       "  'Coffee',\n",
       "  'Coffee',\n",
       "  'Coffee',\n",
       "  'Coffee',\n",
       "  'Coffee',\n",
       "  'Coffee',\n",
       "  'Coffee',\n",
       "  'Coffee',\n",
       "  'Coffee',\n",
       "  'Coffee',\n",
       "  'Coffee',\n",
       "  'Coffee',\n",
       "  'Coffee',\n",
       "  'Coffee',\n",
       "  'Coffee',\n",
       "  'Coffee',\n",
       "  'Coffee',\n",
       "  'Coffee',\n",
       "  'Coffee',\n",
       "  'Coffee',\n",
       "  'Coffee',\n",
       "  'Coffee',\n",
       "  'Coffee',\n",
       "  'Coffee',\n",
       "  'Coffee',\n",
       "  'Coffee',\n",
       "  'Coffee',\n",
       "  'Coffee',\n",
       "  'Coffee',\n",
       "  'Coffee',\n",
       "  'Coffee',\n",
       "  'Coffee',\n",
       "  'Coffee',\n",
       "  'Coffee',\n",
       "  'Coffee',\n",
       "  'Coffee',\n",
       "  'Coffee',\n",
       "  'Coffee',\n",
       "  'Coffee',\n",
       "  'Coffee',\n",
       "  'Coffee',\n",
       "  'Coffee',\n",
       "  'Coffee',\n",
       "  'Coffee',\n",
       "  'Coffee',\n",
       "  'Coffee',\n",
       "  'Coffee',\n",
       "  'Coffee',\n",
       "  'Coffee',\n",
       "  'Coffee',\n",
       "  'Coffee',\n",
       "  'Coffee',\n",
       "  'Coffee',\n",
       "  'Coffee',\n",
       "  'Coffee',\n",
       "  'Coffee',\n",
       "  'Coffee',\n",
       "  'Coffee',\n",
       "  'Coffee',\n",
       "  'Coffee',\n",
       "  'Coffee',\n",
       "  'Coffee',\n",
       "  'Coffee',\n",
       "  'Coffee',\n",
       "  'Coffee',\n",
       "  'Coffee',\n",
       "  'Coffee',\n",
       "  'Coffee',\n",
       "  'Coffee',\n",
       "  'Coffee',\n",
       "  'Coffee',\n",
       "  'Coffee',\n",
       "  'Coffee',\n",
       "  'Coffee',\n",
       "  'Coffee',\n",
       "  'Coffee',\n",
       "  'Coffee',\n",
       "  'Coffee',\n",
       "  'Coffee',\n",
       "  'Coffee',\n",
       "  'Coffee',\n",
       "  'Coffee',\n",
       "  'Coffee',\n",
       "  'Tea',\n",
       "  'Tea',\n",
       "  'Tea',\n",
       "  'Tea',\n",
       "  'Tea',\n",
       "  'Tea',\n",
       "  'Tea',\n",
       "  'Tea',\n",
       "  'Tea',\n",
       "  'Tea',\n",
       "  'Tea',\n",
       "  'Tea',\n",
       "  'Tea',\n",
       "  'Tea',\n",
       "  'Tea',\n",
       "  'Tea',\n",
       "  'Tea',\n",
       "  'Tea',\n",
       "  'Tea',\n",
       "  'Tea',\n",
       "  'Tea',\n",
       "  'Tea',\n",
       "  'Tea',\n",
       "  'Tea',\n",
       "  'Tea',\n",
       "  'Tea',\n",
       "  'Tea',\n",
       "  'Tea',\n",
       "  'Tea',\n",
       "  'Tea',\n",
       "  'Tea',\n",
       "  'Tea',\n",
       "  'Tea',\n",
       "  'Tea',\n",
       "  'Tea',\n",
       "  'Tea',\n",
       "  'Tea',\n",
       "  'Tea',\n",
       "  'Tea',\n",
       "  'Tea',\n",
       "  'Tea',\n",
       "  'Tea',\n",
       "  'Tea',\n",
       "  'Tea',\n",
       "  'Tea',\n",
       "  'Tea',\n",
       "  'Tea',\n",
       "  'Tea',\n",
       "  'Tea',\n",
       "  'Tea',\n",
       "  'Tea',\n",
       "  'Tea',\n",
       "  'Tea',\n",
       "  'Tea',\n",
       "  'Tea',\n",
       "  'Tea',\n",
       "  'Tea',\n",
       "  'Tea',\n",
       "  'Tea',\n",
       "  'Tea',\n",
       "  'Tea',\n",
       "  'Tea',\n",
       "  'Tea',\n",
       "  'Tea',\n",
       "  'Tea',\n",
       "  'Tea',\n",
       "  'Tea',\n",
       "  'Tea',\n",
       "  'Tea',\n",
       "  'Tea',\n",
       "  'Tea',\n",
       "  'Tea',\n",
       "  'Tea',\n",
       "  'Tea',\n",
       "  'Tea',\n",
       "  'Tea',\n",
       "  'Tea',\n",
       "  'Tea',\n",
       "  'Tea',\n",
       "  'Tea',\n",
       "  'Tea',\n",
       "  'Tea',\n",
       "  'Tea',\n",
       "  'Tea',\n",
       "  'Tea',\n",
       "  'Tea',\n",
       "  'Tea',\n",
       "  'Tea',\n",
       "  'Tea',\n",
       "  'Tea',\n",
       "  'Tea',\n",
       "  'Tea',\n",
       "  'Tea',\n",
       "  'Tea',\n",
       "  'Tea',\n",
       "  'Tea',\n",
       "  'Tea',\n",
       "  'Tea',\n",
       "  'Tea',\n",
       "  'Tea',\n",
       "  'Tea'),\n",
       " ('Chocolate',\n",
       "  'Chocolate',\n",
       "  'Chocolate',\n",
       "  'Chocolate',\n",
       "  'Chocolate',\n",
       "  'Chocolate',\n",
       "  'Chocolate',\n",
       "  'Chocolate',\n",
       "  'Chocolate',\n",
       "  'Chocolate',\n",
       "  'Chocolate',\n",
       "  'Chocolate',\n",
       "  'Chocolate',\n",
       "  'Chocolate',\n",
       "  'Chocolate',\n",
       "  'Chocolate',\n",
       "  'Chocolate',\n",
       "  'Chocolate',\n",
       "  'Chocolate',\n",
       "  'Chocolate',\n",
       "  'Chocolate',\n",
       "  'Chocolate',\n",
       "  'Chocolate',\n",
       "  'Chocolate',\n",
       "  'Chocolate',\n",
       "  'Chocolate',\n",
       "  'Chocolate',\n",
       "  'Chocolate',\n",
       "  'Chocolate',\n",
       "  'Chocolate',\n",
       "  'Chocolate',\n",
       "  'Chocolate',\n",
       "  'Chocolate',\n",
       "  'Chocolate',\n",
       "  'Chocolate',\n",
       "  'Chocolate',\n",
       "  'Chocolate',\n",
       "  'Chocolate',\n",
       "  'Chocolate',\n",
       "  'Chocolate',\n",
       "  'Chocolate',\n",
       "  'Chocolate',\n",
       "  'Chocolate',\n",
       "  'Plain',\n",
       "  'Plain',\n",
       "  'Plain',\n",
       "  'Plain',\n",
       "  'Plain',\n",
       "  'Plain',\n",
       "  'Plain',\n",
       "  'Plain',\n",
       "  'Plain',\n",
       "  'Plain',\n",
       "  'Plain',\n",
       "  'Plain',\n",
       "  'Plain',\n",
       "  'Plain',\n",
       "  'Plain',\n",
       "  'Plain',\n",
       "  'Plain',\n",
       "  'Plain',\n",
       "  'Plain',\n",
       "  'Plain',\n",
       "  'Plain',\n",
       "  'Plain',\n",
       "  'Plain',\n",
       "  'Plain',\n",
       "  'Plain',\n",
       "  'Plain',\n",
       "  'Plain',\n",
       "  'Plain',\n",
       "  'Plain',\n",
       "  'Plain',\n",
       "  'Plain',\n",
       "  'Plain',\n",
       "  'Plain',\n",
       "  'Plain',\n",
       "  'Plain',\n",
       "  'Plain',\n",
       "  'Plain',\n",
       "  'Plain',\n",
       "  'Plain',\n",
       "  'Plain',\n",
       "  'Plain',\n",
       "  'Plain',\n",
       "  'Plain',\n",
       "  'Plain',\n",
       "  'Plain',\n",
       "  'Plain',\n",
       "  'Plain',\n",
       "  'Plain',\n",
       "  'Plain',\n",
       "  'Plain',\n",
       "  'Plain',\n",
       "  'Plain',\n",
       "  'Plain',\n",
       "  'Plain',\n",
       "  'Plain',\n",
       "  'Plain',\n",
       "  'Plain',\n",
       "  'Chocolate',\n",
       "  'Chocolate',\n",
       "  'Chocolate',\n",
       "  'Chocolate',\n",
       "  'Chocolate',\n",
       "  'Chocolate',\n",
       "  'Chocolate',\n",
       "  'Chocolate',\n",
       "  'Chocolate',\n",
       "  'Chocolate',\n",
       "  'Chocolate',\n",
       "  'Chocolate',\n",
       "  'Chocolate',\n",
       "  'Chocolate',\n",
       "  'Chocolate',\n",
       "  'Chocolate',\n",
       "  'Chocolate',\n",
       "  'Chocolate',\n",
       "  'Chocolate',\n",
       "  'Chocolate',\n",
       "  'Chocolate',\n",
       "  'Chocolate',\n",
       "  'Chocolate',\n",
       "  'Chocolate',\n",
       "  'Chocolate',\n",
       "  'Chocolate',\n",
       "  'Chocolate',\n",
       "  'Chocolate',\n",
       "  'Chocolate',\n",
       "  'Chocolate',\n",
       "  'Chocolate',\n",
       "  'Chocolate',\n",
       "  'Chocolate',\n",
       "  'Chocolate',\n",
       "  'Chocolate',\n",
       "  'Chocolate',\n",
       "  'Chocolate',\n",
       "  'Chocolate',\n",
       "  'Chocolate',\n",
       "  'Chocolate',\n",
       "  'Chocolate',\n",
       "  'Chocolate',\n",
       "  'Chocolate',\n",
       "  'Chocolate',\n",
       "  'Chocolate',\n",
       "  'Chocolate',\n",
       "  'Chocolate',\n",
       "  'Chocolate',\n",
       "  'Chocolate',\n",
       "  'Chocolate',\n",
       "  'Chocolate',\n",
       "  'Chocolate',\n",
       "  'Chocolate',\n",
       "  'Chocolate',\n",
       "  'Chocolate',\n",
       "  'Chocolate',\n",
       "  'Plain',\n",
       "  'Plain',\n",
       "  'Plain',\n",
       "  'Plain',\n",
       "  'Plain',\n",
       "  'Plain',\n",
       "  'Plain',\n",
       "  'Plain',\n",
       "  'Plain',\n",
       "  'Plain',\n",
       "  'Plain',\n",
       "  'Plain',\n",
       "  'Plain',\n",
       "  'Plain',\n",
       "  'Plain',\n",
       "  'Plain',\n",
       "  'Plain',\n",
       "  'Plain',\n",
       "  'Plain',\n",
       "  'Plain',\n",
       "  'Plain',\n",
       "  'Plain',\n",
       "  'Plain',\n",
       "  'Plain',\n",
       "  'Plain',\n",
       "  'Plain',\n",
       "  'Plain',\n",
       "  'Plain',\n",
       "  'Plain',\n",
       "  'Plain',\n",
       "  'Plain',\n",
       "  'Plain',\n",
       "  'Plain',\n",
       "  'Plain',\n",
       "  'Plain',\n",
       "  'Plain',\n",
       "  'Plain',\n",
       "  'Plain',\n",
       "  'Plain',\n",
       "  'Plain',\n",
       "  'Plain',\n",
       "  'Plain',\n",
       "  'Plain',\n",
       "  'Plain',\n",
       "  'Plain'))"
      ]
     },
     "execution_count": 8,
     "metadata": {},
     "output_type": "execute_result"
    }
   ],
   "source": [
    "# Zip the list - make the rows columns and the columns rows.\n",
    "# Interchanges the outer and inner lists.\n",
    "drink, biscuit = list(zip(*raw_data))\n",
    "\n",
    "# Show.\n",
    "drink, biscuit"
   ]
  },
  {
   "cell_type": "code",
   "execution_count": 9,
   "metadata": {},
   "outputs": [
    {
     "data": {
      "text/html": [
       "<div>\n",
       "<style scoped>\n",
       "    .dataframe tbody tr th:only-of-type {\n",
       "        vertical-align: middle;\n",
       "    }\n",
       "\n",
       "    .dataframe tbody tr th {\n",
       "        vertical-align: top;\n",
       "    }\n",
       "\n",
       "    .dataframe thead th {\n",
       "        text-align: right;\n",
       "    }\n",
       "</style>\n",
       "<table border=\"1\" class=\"dataframe\">\n",
       "  <thead>\n",
       "    <tr style=\"text-align: right;\">\n",
       "      <th></th>\n",
       "      <th>Drink</th>\n",
       "      <th>Biscuit</th>\n",
       "    </tr>\n",
       "  </thead>\n",
       "  <tbody>\n",
       "    <tr>\n",
       "      <th>0</th>\n",
       "      <td>Coffee</td>\n",
       "      <td>Chocolate</td>\n",
       "    </tr>\n",
       "    <tr>\n",
       "      <th>1</th>\n",
       "      <td>Coffee</td>\n",
       "      <td>Chocolate</td>\n",
       "    </tr>\n",
       "    <tr>\n",
       "      <th>2</th>\n",
       "      <td>Coffee</td>\n",
       "      <td>Chocolate</td>\n",
       "    </tr>\n",
       "    <tr>\n",
       "      <th>3</th>\n",
       "      <td>Coffee</td>\n",
       "      <td>Chocolate</td>\n",
       "    </tr>\n",
       "    <tr>\n",
       "      <th>4</th>\n",
       "      <td>Coffee</td>\n",
       "      <td>Chocolate</td>\n",
       "    </tr>\n",
       "    <tr>\n",
       "      <th>...</th>\n",
       "      <td>...</td>\n",
       "      <td>...</td>\n",
       "    </tr>\n",
       "    <tr>\n",
       "      <th>196</th>\n",
       "      <td>Tea</td>\n",
       "      <td>Plain</td>\n",
       "    </tr>\n",
       "    <tr>\n",
       "      <th>197</th>\n",
       "      <td>Tea</td>\n",
       "      <td>Plain</td>\n",
       "    </tr>\n",
       "    <tr>\n",
       "      <th>198</th>\n",
       "      <td>Tea</td>\n",
       "      <td>Plain</td>\n",
       "    </tr>\n",
       "    <tr>\n",
       "      <th>199</th>\n",
       "      <td>Tea</td>\n",
       "      <td>Plain</td>\n",
       "    </tr>\n",
       "    <tr>\n",
       "      <th>200</th>\n",
       "      <td>Tea</td>\n",
       "      <td>Plain</td>\n",
       "    </tr>\n",
       "  </tbody>\n",
       "</table>\n",
       "<p>201 rows × 2 columns</p>\n",
       "</div>"
      ],
      "text/plain": [
       "      Drink    Biscuit\n",
       "0    Coffee  Chocolate\n",
       "1    Coffee  Chocolate\n",
       "2    Coffee  Chocolate\n",
       "3    Coffee  Chocolate\n",
       "4    Coffee  Chocolate\n",
       "..      ...        ...\n",
       "196     Tea      Plain\n",
       "197     Tea      Plain\n",
       "198     Tea      Plain\n",
       "199     Tea      Plain\n",
       "200     Tea      Plain\n",
       "\n",
       "[201 rows x 2 columns]"
      ]
     },
     "execution_count": 9,
     "metadata": {},
     "output_type": "execute_result"
    }
   ],
   "source": [
    "# Create a data frame.\n",
    "df = pd.DataFrame({'Drink': drink, 'Biscuit': biscuit})\n",
    "\n",
    "# Show.\n",
    "df"
   ]
  },
  {
   "attachments": {},
   "cell_type": "markdown",
   "metadata": {},
   "source": [
    "## Contingency Table\n",
    "\n",
    "***"
   ]
  },
  {
   "cell_type": "code",
   "execution_count": 10,
   "metadata": {},
   "outputs": [
    {
     "name": "stdout",
     "output_type": "stream",
     "text": [
      "Biscuit  Chocolate  Plain\n",
      "Drink                    \n",
      "Coffee          43     57\n",
      "Tea             56     45\n"
     ]
    }
   ],
   "source": [
    "# Creating a contingency table with 'drink' and 'biscuit' columns\n",
    "contingency_table = pd.crosstab(df['Drink'], df['Biscuit'])\n",
    "\n",
    "# Show the contingency table\n",
    "print(contingency_table)"
   ]
  },
  {
   "cell_type": "code",
   "execution_count": 11,
   "metadata": {},
   "outputs": [
    {
     "data": {
      "text/plain": [
       "((array(['Chocolate', 'Plain'], dtype=object),\n",
       "  array(['Coffee', 'Tea'], dtype=object)),\n",
       " array([[43, 56],\n",
       "        [57, 45]]))"
      ]
     },
     "execution_count": 11,
     "metadata": {},
     "output_type": "execute_result"
    }
   ],
   "source": [
    "# Perform Crosstabs Contingency.\n",
    "cross = ss.contingency.crosstab(df['Biscuit'], df['Drink'])\n",
    "\n",
    "# Show.\n",
    "cross"
   ]
  },
  {
   "cell_type": "code",
   "execution_count": 12,
   "metadata": {},
   "outputs": [
    {
     "name": "stdout",
     "output_type": "stream",
     "text": [
      "(array(['Chocolate', 'Plain'], dtype=object), array(['Coffee', 'Tea'], dtype=object)) [[43 56]\n",
      " [57 45]]\n"
     ]
    }
   ],
   "source": [
    "# Assuming cross is a tuple with two elements\n",
    "first, second = cross  # Unpack the elements of the tuple\n",
    "\n",
    "# Show\n",
    "print(first, second)\n"
   ]
  },
  {
   "cell_type": "code",
   "execution_count": 15,
   "metadata": {},
   "outputs": [],
   "source": [
    "# Create a DataFrame with the provided data\n",
    "data = pd.DataFrame({'Biscuit': ['Chocolate', 'Plain'],\n",
    "                     'Coffee': [43, 57],\n",
    "                     'Tea': [56, 45]})\n",
    "\n",
    "# Set 'Biscuit' column as the index\n",
    "data.set_index('Biscuit', inplace=True)\n"
   ]
  },
  {
   "cell_type": "code",
   "execution_count": 17,
   "metadata": {},
   "outputs": [
    {
     "name": "stdout",
     "output_type": "stream",
     "text": [
      "Chi-squared statistic: 2.6359100836554257\n",
      "P-value: 0.10447218120907394\n"
     ]
    }
   ],
   "source": [
    "# Perform the chi-squared test\n",
    "chi2, p, _, _ = ss.chi2_contingency(data)\n",
    "\n",
    "# Output the results\n",
    "print(\"Chi-squared statistic:\", chi2)\n",
    "print(\"P-value:\", p)"
   ]
  },
  {
   "cell_type": "code",
   "execution_count": 18,
   "metadata": {},
   "outputs": [
    {
     "name": "stdout",
     "output_type": "stream",
     "text": [
      "There is no evidence of an association between drink preference and biscuit preference.\n"
     ]
    }
   ],
   "source": [
    "# Determine the significance level (alpha) for your test\n",
    "alpha = 0.05\n",
    "\n",
    "# Compare the p-value to alpha to make a decision\n",
    "if p < alpha:\n",
    "    print(\"There is evidence of an association between drink preference and biscuit preference.\")\n",
    "else:\n",
    "    print(\"There is no evidence of an association between drink preference and biscuit preference.\")"
   ]
  },
  {
   "cell_type": "markdown",
   "metadata": {},
   "source": [
    "## Notes\n",
    "***\n",
    "\n",
    "The chi-squared test results we got from the study were:\n",
    "\n",
    "Chi-squared statistic: 2.6359\n",
    "P-value: 0.1045\n",
    "\n",
    "It was determined that there are no association between drink preference and biscuit preference.\n",
    "\n"
   ]
  },
  {
   "cell_type": "markdown",
   "metadata": {},
   "source": [
    "# Task 3"
   ]
  },
  {
   "cell_type": "markdown",
   "metadata": {},
   "source": [
    "Perform a t-test on the famous penguins data set to investigate whether there is evidence of a significant difference in the body mass of male and female gentoo penguins"
   ]
  },
  {
   "cell_type": "code",
   "execution_count": 27,
   "metadata": {},
   "outputs": [],
   "source": [
    "# libraries\n",
    "\n",
    "import seaborn as sns\n",
    "\n",
    "import scipy.stats as stats\n",
    "\n",
    "import pandas as pd\n",
    "\n",
    "import urllib.request"
   ]
  },
  {
   "cell_type": "code",
   "execution_count": 29,
   "metadata": {},
   "outputs": [],
   "source": [
    "csv = \"https://github.com/mwaskom/seaborn-data/raw/master/penguins.csv\"\n",
    "\n",
    "# Download the dataset from the URL and read it into a DataFrame\n",
    "with urllib.request.urlopen(csv) as response:\n",
    "    penguins = pd.read_csv(response)"
   ]
  },
  {
   "cell_type": "markdown",
   "metadata": {},
   "source": [
    "## General Info on Dataset\n",
    "\n",
    "I am now very familiar with this dataset, so firstly I decided to use numpy to get a general review of this dataset."
   ]
  },
  {
   "cell_type": "code",
   "execution_count": 30,
   "metadata": {},
   "outputs": [
    {
     "name": "stdout",
     "output_type": "stream",
     "text": [
      "  species     island  bill_length_mm  bill_depth_mm  flipper_length_mm  \\\n",
      "0  Adelie  Torgersen            39.1           18.7              181.0   \n",
      "1  Adelie  Torgersen            39.5           17.4              186.0   \n",
      "2  Adelie  Torgersen            40.3           18.0              195.0   \n",
      "3  Adelie  Torgersen             NaN            NaN                NaN   \n",
      "4  Adelie  Torgersen            36.7           19.3              193.0   \n",
      "5  Adelie  Torgersen            39.3           20.6              190.0   \n",
      "6  Adelie  Torgersen            38.9           17.8              181.0   \n",
      "7  Adelie  Torgersen            39.2           19.6              195.0   \n",
      "8  Adelie  Torgersen            34.1           18.1              193.0   \n",
      "9  Adelie  Torgersen            42.0           20.2              190.0   \n",
      "\n",
      "   body_mass_g     sex  \n",
      "0       3750.0    MALE  \n",
      "1       3800.0  FEMALE  \n",
      "2       3250.0  FEMALE  \n",
      "3          NaN     NaN  \n",
      "4       3450.0  FEMALE  \n",
      "5       3650.0    MALE  \n",
      "6       3625.0  FEMALE  \n",
      "7       4675.0    MALE  \n",
      "8       3475.0     NaN  \n",
      "9       4250.0     NaN  \n"
     ]
    }
   ],
   "source": [
    "print(penguins.head(10))\n"
   ]
  },
  {
   "cell_type": "code",
   "execution_count": 31,
   "metadata": {},
   "outputs": [
    {
     "name": "stdout",
     "output_type": "stream",
     "text": [
      "<class 'pandas.core.frame.DataFrame'>\n",
      "RangeIndex: 344 entries, 0 to 343\n",
      "Data columns (total 7 columns):\n",
      " #   Column             Non-Null Count  Dtype  \n",
      "---  ------             --------------  -----  \n",
      " 0   species            344 non-null    object \n",
      " 1   island             344 non-null    object \n",
      " 2   bill_length_mm     342 non-null    float64\n",
      " 3   bill_depth_mm      342 non-null    float64\n",
      " 4   flipper_length_mm  342 non-null    float64\n",
      " 5   body_mass_g        342 non-null    float64\n",
      " 6   sex                333 non-null    object \n",
      "dtypes: float64(4), object(3)\n",
      "memory usage: 18.9+ KB\n",
      "None\n"
     ]
    }
   ],
   "source": [
    "print(penguins.info())\n"
   ]
  },
  {
   "cell_type": "code",
   "execution_count": 32,
   "metadata": {},
   "outputs": [
    {
     "name": "stdout",
     "output_type": "stream",
     "text": [
      "       bill_length_mm  bill_depth_mm  flipper_length_mm  body_mass_g\n",
      "count      342.000000     342.000000         342.000000   342.000000\n",
      "mean        43.921930      17.151170         200.915205  4201.754386\n",
      "std          5.459584       1.974793          14.061714   801.954536\n",
      "min         32.100000      13.100000         172.000000  2700.000000\n",
      "25%         39.225000      15.600000         190.000000  3550.000000\n",
      "50%         44.450000      17.300000         197.000000  4050.000000\n",
      "75%         48.500000      18.700000         213.000000  4750.000000\n",
      "max         59.600000      21.500000         231.000000  6300.000000\n"
     ]
    }
   ],
   "source": [
    "print(penguins.describe())\n"
   ]
  },
  {
   "cell_type": "code",
   "execution_count": 33,
   "metadata": {},
   "outputs": [
    {
     "name": "stdout",
     "output_type": "stream",
     "text": [
      "Adelie       152\n",
      "Gentoo       124\n",
      "Chinstrap     68\n",
      "Name: species, dtype: int64\n"
     ]
    }
   ],
   "source": [
    "print(penguins['species'].value_counts())\n"
   ]
  },
  {
   "cell_type": "code",
   "execution_count": 34,
   "metadata": {},
   "outputs": [
    {
     "name": "stdout",
     "output_type": "stream",
     "text": [
      "species               0\n",
      "island                0\n",
      "bill_length_mm        2\n",
      "bill_depth_mm         2\n",
      "flipper_length_mm     2\n",
      "body_mass_g           2\n",
      "sex                  11\n",
      "dtype: int64\n"
     ]
    }
   ],
   "source": [
    "print(penguins.isnull().sum())\n"
   ]
  },
  {
   "cell_type": "code",
   "execution_count": 35,
   "metadata": {},
   "outputs": [
    {
     "name": "stdout",
     "output_type": "stream",
     "text": [
      "                   bill_length_mm  bill_depth_mm  flipper_length_mm  \\\n",
      "bill_length_mm           1.000000      -0.235053           0.656181   \n",
      "bill_depth_mm           -0.235053       1.000000          -0.583851   \n",
      "flipper_length_mm        0.656181      -0.583851           1.000000   \n",
      "body_mass_g              0.595110      -0.471916           0.871202   \n",
      "\n",
      "                   body_mass_g  \n",
      "bill_length_mm        0.595110  \n",
      "bill_depth_mm        -0.471916  \n",
      "flipper_length_mm     0.871202  \n",
      "body_mass_g           1.000000  \n"
     ]
    }
   ],
   "source": [
    "print(penguins.corr())\n"
   ]
  }
 ],
 "metadata": {
  "kernelspec": {
   "display_name": "base",
   "language": "python",
   "name": "python3"
  },
  "language_info": {
   "codemirror_mode": {
    "name": "ipython",
    "version": 3
   },
   "file_extension": ".py",
   "mimetype": "text/x-python",
   "name": "python",
   "nbconvert_exporter": "python",
   "pygments_lexer": "ipython3",
   "version": "3.9.7"
  },
  "orig_nbformat": 4
 },
 "nbformat": 4,
 "nbformat_minor": 2
}
