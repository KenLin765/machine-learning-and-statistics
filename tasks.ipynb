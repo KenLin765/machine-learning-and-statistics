{
 "cells": [
  {
   "attachments": {},
   "cell_type": "markdown",
   "metadata": {},
   "source": [
    "# Tasks\n",
    "\n",
    "Machine Learning and Statistics\n",
    "\n",
    "Winter 2023/24\n",
    "\n",
    "by Kenneth Linehan"
   ]
  },
  {
   "attachments": {},
   "cell_type": "markdown",
   "metadata": {},
   "source": [
    "## Task 1 \n",
    "\n",
    "***\n",
    "\n",
    "> Square roots are difficult to calculate. In Python, you typically use the power operator (a double asterisk) or a package such as `math`. In this task, 1 you should write a function `sqrt(x)` to approximate the square root of a floating point number x without using the power operator or a package.\n",
    "\n",
    "> Rather, you should use the Newton’s method.  Start with an Square Roots via Newton’s Method. initial guess for the square root called $z_0$. You then repeatedly improve it using the following formula, until the difference between some previous guess $z_i$ and the next $z{i+1}$ is less than some threshold, say 0.01.\n",
    "\n",
    "$$ z_{i+1} = z_i − \\frac{z_i × z_i − x} {2z_i} $$\n"
   ]
  },
  {
   "attachments": {},
   "cell_type": "markdown",
   "metadata": {},
   "source": [
    "## Imports                                                                                                         \n",
    "Imports libraries for notebook"
   ]
  },
  {
   "cell_type": "code",
   "execution_count": 101,
   "metadata": {},
   "outputs": [],
   "source": [
    "# Data frames.\n",
    "import pandas as pd\n",
    "\n",
    "# Shuffles.\n",
    "import random\n",
    "\n",
    "# Statistics.\n",
    "import scipy.stats as ss"
   ]
  },
  {
   "cell_type": "code",
   "execution_count": 102,
   "metadata": {},
   "outputs": [],
   "source": [
    "def sqrt(x):\n",
    "    # initial guess for square root\n",
    "    z = x / 4.0\n",
    "\n",
    "    # Loop until we are accurate enough\n",
    "    for i in range(100):\n",
    "        # Newton's Method for a better approximation\n",
    "        z = z - (((z * z) - x) / (2 * z))\n",
    "\n",
    "    # z should now be an approximation for the square root\n",
    "    return z\n",
    "\n",
    "\n"
   ]
  },
  {
   "cell_type": "code",
   "execution_count": 103,
   "metadata": {},
   "outputs": [
    {
     "data": {
      "text/plain": [
       "1.7320508075688774"
      ]
     },
     "execution_count": 103,
     "metadata": {},
     "output_type": "execute_result"
    }
   ],
   "source": [
    "## Test function on 3\n",
    "\n",
    "sqrt(3)"
   ]
  },
  {
   "cell_type": "code",
   "execution_count": 104,
   "metadata": {},
   "outputs": [
    {
     "data": {
      "text/plain": [
       "1.7320508075688772"
      ]
     },
     "execution_count": 104,
     "metadata": {},
     "output_type": "execute_result"
    }
   ],
   "source": [
    "## Check Pythons value for square root of 3\n",
    "\n",
    "3**0.5"
   ]
  },
  {
   "cell_type": "code",
   "execution_count": 105,
   "metadata": {},
   "outputs": [],
   "source": [
    "## The number that we want to calculate the square root of\n",
    "\n",
    "x = 16"
   ]
  },
  {
   "attachments": {},
   "cell_type": "markdown",
   "metadata": {},
   "source": [
    "### Notes\n",
    "\n",
    "***\n",
    "\n"
   ]
  },
  {
   "attachments": {},
   "cell_type": "markdown",
   "metadata": {},
   "source": [
    "***\n",
    "\n",
    "## End"
   ]
  },
  {
   "attachments": {},
   "cell_type": "markdown",
   "metadata": {},
   "source": [
    "# Task 2"
   ]
  },
  {
   "attachments": {},
   "cell_type": "markdown",
   "metadata": {},
   "source": [
    "Consider the below contingency table based on a survey asking respondents whether they prefer coffee or tea and whether they prefer plain or chocolate biscuits. Use scipy.stats to perform a chi-squared test to see whether there is any evidence of an association between drink preference and biscuit preference in this instance.\n",
    "\n",
    "\n",
    "<table>\n",
    "  <tr>\n",
    "    <th style=\"border: none;\"></th>\n",
    "    <th style=\"border: none;\"></th>\n",
    "    <th style=\"border-right;\"><em>Biscuit</em></th>\n",
    "    <th style=\"border: none;\"></th>\n",
    "  </tr>\n",
    "  <tr>\n",
    "    <th style=\"border: none;\"></th>\n",
    "    <th style=\"border: none;\"></th>\n",
    "    <td style=\"border-right;\"><strong>Chocolate</strong></td>\n",
    "    <td><strong>Plain</strong></td>\n",
    "  </tr>\n",
    "  <tr>\n",
    "    <td><em>Drink</em></td>\n",
    "    <td>Coffee</td>\n",
    "    <td>43</td>\n",
    "    <td>57</td>\n",
    "  </tr>\n",
    "  <tr>\n",
    "    <th style=\"border: none;\"></th>\n",
    "    <td>Tea</td>\n",
    "    <td>56</td>\n",
    "    <td>45</td>\n",
    "  </tr>\n",
    "</table>\n",
    "\n",
    "\n",
    "\n",
    "\n",
    "\n"
   ]
  },
  {
   "attachments": {},
   "cell_type": "markdown",
   "metadata": {},
   "source": [
    "## Imports                                                                                                         \n",
    "Imports libraries for Task 2"
   ]
  },
  {
   "cell_type": "code",
   "execution_count": 2,
   "metadata": {},
   "outputs": [],
   "source": [
    "import numpy as np\n",
    "\n",
    "# Data frames.\n",
    "import pandas as pd\n",
    "\n",
    "# Shuffles.\n",
    "import random\n",
    "\n",
    "# Statistics.\n",
    "import scipy.stats as ss"
   ]
  },
  {
   "attachments": {},
   "cell_type": "markdown",
   "metadata": {},
   "source": [
    "## Creating the raw data\n",
    "\n",
    "In this first part of working with the data, I am going to create all raw data from the choices made by the participants in the survey."
   ]
  },
  {
   "cell_type": "code",
   "execution_count": 3,
   "metadata": {},
   "outputs": [
    {
     "name": "stdout",
     "output_type": "stream",
     "text": [
      "[['Coffee', 'Chocolate'], ['Coffee', 'Chocolate'], ['Coffee', 'Chocolate'], ['Coffee', 'Chocolate'], ['Coffee', 'Chocolate'], ['Coffee', 'Chocolate'], ['Coffee', 'Chocolate'], ['Coffee', 'Chocolate'], ['Coffee', 'Chocolate'], ['Coffee', 'Chocolate'], ['Coffee', 'Chocolate'], ['Coffee', 'Chocolate'], ['Coffee', 'Chocolate'], ['Coffee', 'Chocolate'], ['Coffee', 'Chocolate'], ['Coffee', 'Chocolate'], ['Coffee', 'Chocolate'], ['Coffee', 'Chocolate'], ['Coffee', 'Chocolate'], ['Coffee', 'Chocolate'], ['Coffee', 'Chocolate'], ['Coffee', 'Chocolate'], ['Coffee', 'Chocolate'], ['Coffee', 'Chocolate'], ['Coffee', 'Chocolate'], ['Coffee', 'Chocolate'], ['Coffee', 'Chocolate'], ['Coffee', 'Chocolate'], ['Coffee', 'Chocolate'], ['Coffee', 'Chocolate'], ['Coffee', 'Chocolate'], ['Coffee', 'Chocolate'], ['Coffee', 'Chocolate'], ['Coffee', 'Chocolate'], ['Coffee', 'Chocolate'], ['Coffee', 'Chocolate'], ['Coffee', 'Chocolate'], ['Coffee', 'Chocolate'], ['Coffee', 'Chocolate'], ['Coffee', 'Chocolate'], ['Coffee', 'Chocolate'], ['Coffee', 'Chocolate'], ['Coffee', 'Chocolate']]\n"
     ]
    }
   ],
   "source": [
    "# Forty Three who preferred the drink Coffee and Chocolate\n",
    "coffee_chocolate = [['Coffee', 'Chocolate']] * 43\n",
    "\n",
    "# Show\n",
    "print(coffee_chocolate)\n",
    "\n"
   ]
  },
  {
   "cell_type": "code",
   "execution_count": 4,
   "metadata": {},
   "outputs": [
    {
     "name": "stdout",
     "output_type": "stream",
     "text": [
      "[['Coffee', 'Plain'], ['Coffee', 'Plain'], ['Coffee', 'Plain'], ['Coffee', 'Plain'], ['Coffee', 'Plain'], ['Coffee', 'Plain'], ['Coffee', 'Plain'], ['Coffee', 'Plain'], ['Coffee', 'Plain'], ['Coffee', 'Plain'], ['Coffee', 'Plain'], ['Coffee', 'Plain'], ['Coffee', 'Plain'], ['Coffee', 'Plain'], ['Coffee', 'Plain'], ['Coffee', 'Plain'], ['Coffee', 'Plain'], ['Coffee', 'Plain'], ['Coffee', 'Plain'], ['Coffee', 'Plain'], ['Coffee', 'Plain'], ['Coffee', 'Plain'], ['Coffee', 'Plain'], ['Coffee', 'Plain'], ['Coffee', 'Plain'], ['Coffee', 'Plain'], ['Coffee', 'Plain'], ['Coffee', 'Plain'], ['Coffee', 'Plain'], ['Coffee', 'Plain'], ['Coffee', 'Plain'], ['Coffee', 'Plain'], ['Coffee', 'Plain'], ['Coffee', 'Plain'], ['Coffee', 'Plain'], ['Coffee', 'Plain'], ['Coffee', 'Plain'], ['Coffee', 'Plain'], ['Coffee', 'Plain'], ['Coffee', 'Plain'], ['Coffee', 'Plain'], ['Coffee', 'Plain'], ['Coffee', 'Plain'], ['Coffee', 'Plain'], ['Coffee', 'Plain'], ['Coffee', 'Plain'], ['Coffee', 'Plain'], ['Coffee', 'Plain'], ['Coffee', 'Plain'], ['Coffee', 'Plain'], ['Coffee', 'Plain'], ['Coffee', 'Plain'], ['Coffee', 'Plain'], ['Coffee', 'Plain'], ['Coffee', 'Plain'], ['Coffee', 'Plain'], ['Coffee', 'Plain']]\n"
     ]
    }
   ],
   "source": [
    "# Fifty Seven who preferred the drink Coffee and plain biscuits\n",
    "coffee_plain = [['Coffee', 'Plain']] * 57\n",
    "\n",
    "# Show\n",
    "print(coffee_plain)"
   ]
  },
  {
   "cell_type": "code",
   "execution_count": 5,
   "metadata": {},
   "outputs": [
    {
     "name": "stdout",
     "output_type": "stream",
     "text": [
      "[['Tea', 'Chocolate'], ['Tea', 'Chocolate'], ['Tea', 'Chocolate'], ['Tea', 'Chocolate'], ['Tea', 'Chocolate'], ['Tea', 'Chocolate'], ['Tea', 'Chocolate'], ['Tea', 'Chocolate'], ['Tea', 'Chocolate'], ['Tea', 'Chocolate'], ['Tea', 'Chocolate'], ['Tea', 'Chocolate'], ['Tea', 'Chocolate'], ['Tea', 'Chocolate'], ['Tea', 'Chocolate'], ['Tea', 'Chocolate'], ['Tea', 'Chocolate'], ['Tea', 'Chocolate'], ['Tea', 'Chocolate'], ['Tea', 'Chocolate'], ['Tea', 'Chocolate'], ['Tea', 'Chocolate'], ['Tea', 'Chocolate'], ['Tea', 'Chocolate'], ['Tea', 'Chocolate'], ['Tea', 'Chocolate'], ['Tea', 'Chocolate'], ['Tea', 'Chocolate'], ['Tea', 'Chocolate'], ['Tea', 'Chocolate'], ['Tea', 'Chocolate'], ['Tea', 'Chocolate'], ['Tea', 'Chocolate'], ['Tea', 'Chocolate'], ['Tea', 'Chocolate'], ['Tea', 'Chocolate'], ['Tea', 'Chocolate'], ['Tea', 'Chocolate'], ['Tea', 'Chocolate'], ['Tea', 'Chocolate'], ['Tea', 'Chocolate'], ['Tea', 'Chocolate'], ['Tea', 'Chocolate'], ['Tea', 'Chocolate'], ['Tea', 'Chocolate'], ['Tea', 'Chocolate'], ['Tea', 'Chocolate'], ['Tea', 'Chocolate'], ['Tea', 'Chocolate'], ['Tea', 'Chocolate'], ['Tea', 'Chocolate'], ['Tea', 'Chocolate'], ['Tea', 'Chocolate'], ['Tea', 'Chocolate'], ['Tea', 'Chocolate'], ['Tea', 'Chocolate']]\n"
     ]
    }
   ],
   "source": [
    "# Fifty six who preferred the drink tea and chocolate biscuits\n",
    "tea_chocolate = [['Tea', 'Chocolate']] * 56\n",
    "\n",
    "# Show\n",
    "print(tea_chocolate)"
   ]
  },
  {
   "cell_type": "code",
   "execution_count": 6,
   "metadata": {},
   "outputs": [
    {
     "name": "stdout",
     "output_type": "stream",
     "text": [
      "[['Tea', 'Plain'], ['Tea', 'Plain'], ['Tea', 'Plain'], ['Tea', 'Plain'], ['Tea', 'Plain'], ['Tea', 'Plain'], ['Tea', 'Plain'], ['Tea', 'Plain'], ['Tea', 'Plain'], ['Tea', 'Plain'], ['Tea', 'Plain'], ['Tea', 'Plain'], ['Tea', 'Plain'], ['Tea', 'Plain'], ['Tea', 'Plain'], ['Tea', 'Plain'], ['Tea', 'Plain'], ['Tea', 'Plain'], ['Tea', 'Plain'], ['Tea', 'Plain'], ['Tea', 'Plain'], ['Tea', 'Plain'], ['Tea', 'Plain'], ['Tea', 'Plain'], ['Tea', 'Plain'], ['Tea', 'Plain'], ['Tea', 'Plain'], ['Tea', 'Plain'], ['Tea', 'Plain'], ['Tea', 'Plain'], ['Tea', 'Plain'], ['Tea', 'Plain'], ['Tea', 'Plain'], ['Tea', 'Plain'], ['Tea', 'Plain'], ['Tea', 'Plain'], ['Tea', 'Plain'], ['Tea', 'Plain'], ['Tea', 'Plain'], ['Tea', 'Plain'], ['Tea', 'Plain'], ['Tea', 'Plain'], ['Tea', 'Plain'], ['Tea', 'Plain'], ['Tea', 'Plain']]\n"
     ]
    }
   ],
   "source": [
    "# Forty Three who preferred the drink tea and plain biscuits\n",
    "tea_plain = [['Tea', 'Plain']] * 45\n",
    "\n",
    "# Show\n",
    "print(tea_plain)"
   ]
  },
  {
   "cell_type": "code",
   "execution_count": 7,
   "metadata": {},
   "outputs": [
    {
     "name": "stdout",
     "output_type": "stream",
     "text": [
      "[['Coffee', 'Chocolate'], ['Coffee', 'Chocolate'], ['Tea', 'Chocolate'], ['Coffee', 'Chocolate'], ['Tea', 'Chocolate'], ['Coffee', 'Chocolate'], ['Coffee', 'Plain'], ['Tea', 'Chocolate'], ['Tea', 'Chocolate'], ['Coffee', 'Chocolate'], ['Tea', 'Plain'], ['Tea', 'Chocolate'], ['Coffee', 'Plain'], ['Tea', 'Chocolate'], ['Tea', 'Chocolate'], ['Tea', 'Chocolate'], ['Tea', 'Chocolate'], ['Coffee', 'Plain'], ['Tea', 'Plain'], ['Tea', 'Chocolate'], ['Coffee', 'Plain'], ['Coffee', 'Plain'], ['Tea', 'Chocolate'], ['Tea', 'Plain'], ['Coffee', 'Chocolate'], ['Tea', 'Plain'], ['Tea', 'Plain'], ['Tea', 'Plain'], ['Tea', 'Chocolate'], ['Tea', 'Chocolate'], ['Tea', 'Plain'], ['Tea', 'Chocolate'], ['Coffee', 'Plain'], ['Coffee', 'Plain'], ['Tea', 'Chocolate'], ['Coffee', 'Plain'], ['Coffee', 'Plain'], ['Coffee', 'Chocolate'], ['Coffee', 'Chocolate'], ['Coffee', 'Chocolate'], ['Tea', 'Plain'], ['Tea', 'Chocolate'], ['Coffee', 'Plain'], ['Tea', 'Plain'], ['Coffee', 'Chocolate'], ['Coffee', 'Plain'], ['Coffee', 'Chocolate'], ['Coffee', 'Plain'], ['Coffee', 'Plain'], ['Tea', 'Plain'], ['Coffee', 'Chocolate'], ['Tea', 'Chocolate'], ['Coffee', 'Plain'], ['Coffee', 'Plain'], ['Tea', 'Plain'], ['Tea', 'Plain'], ['Tea', 'Plain'], ['Tea', 'Plain'], ['Coffee', 'Chocolate'], ['Tea', 'Plain'], ['Coffee', 'Chocolate'], ['Coffee', 'Chocolate'], ['Coffee', 'Plain'], ['Coffee', 'Plain'], ['Coffee', 'Plain'], ['Coffee', 'Plain'], ['Tea', 'Chocolate'], ['Coffee', 'Plain'], ['Tea', 'Plain'], ['Coffee', 'Plain'], ['Tea', 'Chocolate'], ['Tea', 'Chocolate'], ['Tea', 'Chocolate'], ['Coffee', 'Plain'], ['Tea', 'Chocolate'], ['Tea', 'Chocolate'], ['Tea', 'Chocolate'], ['Tea', 'Chocolate'], ['Coffee', 'Chocolate'], ['Coffee', 'Chocolate'], ['Tea', 'Plain'], ['Coffee', 'Plain'], ['Tea', 'Plain'], ['Coffee', 'Chocolate'], ['Tea', 'Plain'], ['Coffee', 'Chocolate'], ['Tea', 'Plain'], ['Coffee', 'Chocolate'], ['Tea', 'Plain'], ['Tea', 'Plain'], ['Coffee', 'Plain'], ['Tea', 'Chocolate'], ['Tea', 'Chocolate'], ['Tea', 'Plain'], ['Tea', 'Chocolate'], ['Coffee', 'Chocolate'], ['Tea', 'Plain'], ['Tea', 'Plain'], ['Tea', 'Chocolate'], ['Tea', 'Plain'], ['Coffee', 'Chocolate'], ['Tea', 'Plain'], ['Tea', 'Chocolate'], ['Coffee', 'Plain'], ['Coffee', 'Plain'], ['Tea', 'Chocolate'], ['Coffee', 'Chocolate'], ['Coffee', 'Chocolate'], ['Tea', 'Plain'], ['Coffee', 'Plain'], ['Tea', 'Plain'], ['Tea', 'Chocolate'], ['Tea', 'Chocolate'], ['Tea', 'Plain'], ['Coffee', 'Chocolate'], ['Coffee', 'Chocolate'], ['Tea', 'Plain'], ['Coffee', 'Plain'], ['Tea', 'Chocolate'], ['Coffee', 'Chocolate'], ['Tea', 'Plain'], ['Coffee', 'Plain'], ['Coffee', 'Plain'], ['Coffee', 'Plain'], ['Tea', 'Chocolate'], ['Tea', 'Plain'], ['Coffee', 'Plain'], ['Coffee', 'Chocolate'], ['Coffee', 'Plain'], ['Coffee', 'Chocolate'], ['Tea', 'Chocolate'], ['Tea', 'Plain'], ['Coffee', 'Plain'], ['Coffee', 'Chocolate'], ['Coffee', 'Plain'], ['Coffee', 'Chocolate'], ['Tea', 'Plain'], ['Coffee', 'Plain'], ['Tea', 'Chocolate'], ['Tea', 'Plain'], ['Tea', 'Plain'], ['Coffee', 'Plain'], ['Tea', 'Plain'], ['Coffee', 'Plain'], ['Coffee', 'Plain'], ['Coffee', 'Chocolate'], ['Coffee', 'Chocolate'], ['Coffee', 'Plain'], ['Tea', 'Chocolate'], ['Coffee', 'Plain'], ['Coffee', 'Plain'], ['Coffee', 'Chocolate'], ['Coffee', 'Plain'], ['Coffee', 'Chocolate'], ['Tea', 'Plain'], ['Tea', 'Plain'], ['Tea', 'Plain'], ['Tea', 'Chocolate'], ['Coffee', 'Plain'], ['Coffee', 'Plain'], ['Coffee', 'Plain'], ['Tea', 'Plain'], ['Tea', 'Chocolate'], ['Coffee', 'Plain'], ['Coffee', 'Plain'], ['Coffee', 'Chocolate'], ['Tea', 'Chocolate'], ['Coffee', 'Plain'], ['Tea', 'Chocolate'], ['Tea', 'Chocolate'], ['Coffee', 'Chocolate'], ['Coffee', 'Plain'], ['Coffee', 'Plain'], ['Tea', 'Chocolate'], ['Coffee', 'Chocolate'], ['Coffee', 'Chocolate'], ['Coffee', 'Plain'], ['Tea', 'Chocolate'], ['Coffee', 'Plain'], ['Tea', 'Chocolate'], ['Coffee', 'Chocolate'], ['Tea', 'Chocolate'], ['Coffee', 'Plain'], ['Tea', 'Plain'], ['Tea', 'Chocolate'], ['Tea', 'Plain'], ['Tea', 'Chocolate'], ['Tea', 'Chocolate'], ['Tea', 'Plain'], ['Coffee', 'Chocolate'], ['Coffee', 'Plain'], ['Coffee', 'Plain'], ['Coffee', 'Plain'], ['Coffee', 'Chocolate'], ['Tea', 'Chocolate'], ['Tea', 'Chocolate'], ['Tea', 'Chocolate'], ['Tea', 'Chocolate'], ['Coffee', 'Chocolate'], ['Tea', 'Chocolate'], ['Tea', 'Chocolate']]\n"
     ]
    }
   ],
   "source": [
    "# Raw data, merge the four lists.\n",
    "raw_data = coffee_chocolate + coffee_plain + tea_chocolate + tea_plain\n",
    "\n",
    "# Shuffle and split the data randomly\n",
    "shuffled_data = random.sample(raw_data, len(raw_data))\n",
    "\n",
    "# Show the shuffled and split data.\n",
    "print(shuffled_data)\n"
   ]
  },
  {
   "cell_type": "code",
   "execution_count": 8,
   "metadata": {},
   "outputs": [
    {
     "data": {
      "text/plain": [
       "(('Coffee',\n",
       "  'Coffee',\n",
       "  'Coffee',\n",
       "  'Coffee',\n",
       "  'Coffee',\n",
       "  'Coffee',\n",
       "  'Coffee',\n",
       "  'Coffee',\n",
       "  'Coffee',\n",
       "  'Coffee',\n",
       "  'Coffee',\n",
       "  'Coffee',\n",
       "  'Coffee',\n",
       "  'Coffee',\n",
       "  'Coffee',\n",
       "  'Coffee',\n",
       "  'Coffee',\n",
       "  'Coffee',\n",
       "  'Coffee',\n",
       "  'Coffee',\n",
       "  'Coffee',\n",
       "  'Coffee',\n",
       "  'Coffee',\n",
       "  'Coffee',\n",
       "  'Coffee',\n",
       "  'Coffee',\n",
       "  'Coffee',\n",
       "  'Coffee',\n",
       "  'Coffee',\n",
       "  'Coffee',\n",
       "  'Coffee',\n",
       "  'Coffee',\n",
       "  'Coffee',\n",
       "  'Coffee',\n",
       "  'Coffee',\n",
       "  'Coffee',\n",
       "  'Coffee',\n",
       "  'Coffee',\n",
       "  'Coffee',\n",
       "  'Coffee',\n",
       "  'Coffee',\n",
       "  'Coffee',\n",
       "  'Coffee',\n",
       "  'Coffee',\n",
       "  'Coffee',\n",
       "  'Coffee',\n",
       "  'Coffee',\n",
       "  'Coffee',\n",
       "  'Coffee',\n",
       "  'Coffee',\n",
       "  'Coffee',\n",
       "  'Coffee',\n",
       "  'Coffee',\n",
       "  'Coffee',\n",
       "  'Coffee',\n",
       "  'Coffee',\n",
       "  'Coffee',\n",
       "  'Coffee',\n",
       "  'Coffee',\n",
       "  'Coffee',\n",
       "  'Coffee',\n",
       "  'Coffee',\n",
       "  'Coffee',\n",
       "  'Coffee',\n",
       "  'Coffee',\n",
       "  'Coffee',\n",
       "  'Coffee',\n",
       "  'Coffee',\n",
       "  'Coffee',\n",
       "  'Coffee',\n",
       "  'Coffee',\n",
       "  'Coffee',\n",
       "  'Coffee',\n",
       "  'Coffee',\n",
       "  'Coffee',\n",
       "  'Coffee',\n",
       "  'Coffee',\n",
       "  'Coffee',\n",
       "  'Coffee',\n",
       "  'Coffee',\n",
       "  'Coffee',\n",
       "  'Coffee',\n",
       "  'Coffee',\n",
       "  'Coffee',\n",
       "  'Coffee',\n",
       "  'Coffee',\n",
       "  'Coffee',\n",
       "  'Coffee',\n",
       "  'Coffee',\n",
       "  'Coffee',\n",
       "  'Coffee',\n",
       "  'Coffee',\n",
       "  'Coffee',\n",
       "  'Coffee',\n",
       "  'Coffee',\n",
       "  'Coffee',\n",
       "  'Coffee',\n",
       "  'Coffee',\n",
       "  'Coffee',\n",
       "  'Coffee',\n",
       "  'Tea',\n",
       "  'Tea',\n",
       "  'Tea',\n",
       "  'Tea',\n",
       "  'Tea',\n",
       "  'Tea',\n",
       "  'Tea',\n",
       "  'Tea',\n",
       "  'Tea',\n",
       "  'Tea',\n",
       "  'Tea',\n",
       "  'Tea',\n",
       "  'Tea',\n",
       "  'Tea',\n",
       "  'Tea',\n",
       "  'Tea',\n",
       "  'Tea',\n",
       "  'Tea',\n",
       "  'Tea',\n",
       "  'Tea',\n",
       "  'Tea',\n",
       "  'Tea',\n",
       "  'Tea',\n",
       "  'Tea',\n",
       "  'Tea',\n",
       "  'Tea',\n",
       "  'Tea',\n",
       "  'Tea',\n",
       "  'Tea',\n",
       "  'Tea',\n",
       "  'Tea',\n",
       "  'Tea',\n",
       "  'Tea',\n",
       "  'Tea',\n",
       "  'Tea',\n",
       "  'Tea',\n",
       "  'Tea',\n",
       "  'Tea',\n",
       "  'Tea',\n",
       "  'Tea',\n",
       "  'Tea',\n",
       "  'Tea',\n",
       "  'Tea',\n",
       "  'Tea',\n",
       "  'Tea',\n",
       "  'Tea',\n",
       "  'Tea',\n",
       "  'Tea',\n",
       "  'Tea',\n",
       "  'Tea',\n",
       "  'Tea',\n",
       "  'Tea',\n",
       "  'Tea',\n",
       "  'Tea',\n",
       "  'Tea',\n",
       "  'Tea',\n",
       "  'Tea',\n",
       "  'Tea',\n",
       "  'Tea',\n",
       "  'Tea',\n",
       "  'Tea',\n",
       "  'Tea',\n",
       "  'Tea',\n",
       "  'Tea',\n",
       "  'Tea',\n",
       "  'Tea',\n",
       "  'Tea',\n",
       "  'Tea',\n",
       "  'Tea',\n",
       "  'Tea',\n",
       "  'Tea',\n",
       "  'Tea',\n",
       "  'Tea',\n",
       "  'Tea',\n",
       "  'Tea',\n",
       "  'Tea',\n",
       "  'Tea',\n",
       "  'Tea',\n",
       "  'Tea',\n",
       "  'Tea',\n",
       "  'Tea',\n",
       "  'Tea',\n",
       "  'Tea',\n",
       "  'Tea',\n",
       "  'Tea',\n",
       "  'Tea',\n",
       "  'Tea',\n",
       "  'Tea',\n",
       "  'Tea',\n",
       "  'Tea',\n",
       "  'Tea',\n",
       "  'Tea',\n",
       "  'Tea',\n",
       "  'Tea',\n",
       "  'Tea',\n",
       "  'Tea',\n",
       "  'Tea',\n",
       "  'Tea',\n",
       "  'Tea',\n",
       "  'Tea',\n",
       "  'Tea'),\n",
       " ('Chocolate',\n",
       "  'Chocolate',\n",
       "  'Chocolate',\n",
       "  'Chocolate',\n",
       "  'Chocolate',\n",
       "  'Chocolate',\n",
       "  'Chocolate',\n",
       "  'Chocolate',\n",
       "  'Chocolate',\n",
       "  'Chocolate',\n",
       "  'Chocolate',\n",
       "  'Chocolate',\n",
       "  'Chocolate',\n",
       "  'Chocolate',\n",
       "  'Chocolate',\n",
       "  'Chocolate',\n",
       "  'Chocolate',\n",
       "  'Chocolate',\n",
       "  'Chocolate',\n",
       "  'Chocolate',\n",
       "  'Chocolate',\n",
       "  'Chocolate',\n",
       "  'Chocolate',\n",
       "  'Chocolate',\n",
       "  'Chocolate',\n",
       "  'Chocolate',\n",
       "  'Chocolate',\n",
       "  'Chocolate',\n",
       "  'Chocolate',\n",
       "  'Chocolate',\n",
       "  'Chocolate',\n",
       "  'Chocolate',\n",
       "  'Chocolate',\n",
       "  'Chocolate',\n",
       "  'Chocolate',\n",
       "  'Chocolate',\n",
       "  'Chocolate',\n",
       "  'Chocolate',\n",
       "  'Chocolate',\n",
       "  'Chocolate',\n",
       "  'Chocolate',\n",
       "  'Chocolate',\n",
       "  'Chocolate',\n",
       "  'Plain',\n",
       "  'Plain',\n",
       "  'Plain',\n",
       "  'Plain',\n",
       "  'Plain',\n",
       "  'Plain',\n",
       "  'Plain',\n",
       "  'Plain',\n",
       "  'Plain',\n",
       "  'Plain',\n",
       "  'Plain',\n",
       "  'Plain',\n",
       "  'Plain',\n",
       "  'Plain',\n",
       "  'Plain',\n",
       "  'Plain',\n",
       "  'Plain',\n",
       "  'Plain',\n",
       "  'Plain',\n",
       "  'Plain',\n",
       "  'Plain',\n",
       "  'Plain',\n",
       "  'Plain',\n",
       "  'Plain',\n",
       "  'Plain',\n",
       "  'Plain',\n",
       "  'Plain',\n",
       "  'Plain',\n",
       "  'Plain',\n",
       "  'Plain',\n",
       "  'Plain',\n",
       "  'Plain',\n",
       "  'Plain',\n",
       "  'Plain',\n",
       "  'Plain',\n",
       "  'Plain',\n",
       "  'Plain',\n",
       "  'Plain',\n",
       "  'Plain',\n",
       "  'Plain',\n",
       "  'Plain',\n",
       "  'Plain',\n",
       "  'Plain',\n",
       "  'Plain',\n",
       "  'Plain',\n",
       "  'Plain',\n",
       "  'Plain',\n",
       "  'Plain',\n",
       "  'Plain',\n",
       "  'Plain',\n",
       "  'Plain',\n",
       "  'Plain',\n",
       "  'Plain',\n",
       "  'Plain',\n",
       "  'Plain',\n",
       "  'Plain',\n",
       "  'Plain',\n",
       "  'Chocolate',\n",
       "  'Chocolate',\n",
       "  'Chocolate',\n",
       "  'Chocolate',\n",
       "  'Chocolate',\n",
       "  'Chocolate',\n",
       "  'Chocolate',\n",
       "  'Chocolate',\n",
       "  'Chocolate',\n",
       "  'Chocolate',\n",
       "  'Chocolate',\n",
       "  'Chocolate',\n",
       "  'Chocolate',\n",
       "  'Chocolate',\n",
       "  'Chocolate',\n",
       "  'Chocolate',\n",
       "  'Chocolate',\n",
       "  'Chocolate',\n",
       "  'Chocolate',\n",
       "  'Chocolate',\n",
       "  'Chocolate',\n",
       "  'Chocolate',\n",
       "  'Chocolate',\n",
       "  'Chocolate',\n",
       "  'Chocolate',\n",
       "  'Chocolate',\n",
       "  'Chocolate',\n",
       "  'Chocolate',\n",
       "  'Chocolate',\n",
       "  'Chocolate',\n",
       "  'Chocolate',\n",
       "  'Chocolate',\n",
       "  'Chocolate',\n",
       "  'Chocolate',\n",
       "  'Chocolate',\n",
       "  'Chocolate',\n",
       "  'Chocolate',\n",
       "  'Chocolate',\n",
       "  'Chocolate',\n",
       "  'Chocolate',\n",
       "  'Chocolate',\n",
       "  'Chocolate',\n",
       "  'Chocolate',\n",
       "  'Chocolate',\n",
       "  'Chocolate',\n",
       "  'Chocolate',\n",
       "  'Chocolate',\n",
       "  'Chocolate',\n",
       "  'Chocolate',\n",
       "  'Chocolate',\n",
       "  'Chocolate',\n",
       "  'Chocolate',\n",
       "  'Chocolate',\n",
       "  'Chocolate',\n",
       "  'Chocolate',\n",
       "  'Chocolate',\n",
       "  'Plain',\n",
       "  'Plain',\n",
       "  'Plain',\n",
       "  'Plain',\n",
       "  'Plain',\n",
       "  'Plain',\n",
       "  'Plain',\n",
       "  'Plain',\n",
       "  'Plain',\n",
       "  'Plain',\n",
       "  'Plain',\n",
       "  'Plain',\n",
       "  'Plain',\n",
       "  'Plain',\n",
       "  'Plain',\n",
       "  'Plain',\n",
       "  'Plain',\n",
       "  'Plain',\n",
       "  'Plain',\n",
       "  'Plain',\n",
       "  'Plain',\n",
       "  'Plain',\n",
       "  'Plain',\n",
       "  'Plain',\n",
       "  'Plain',\n",
       "  'Plain',\n",
       "  'Plain',\n",
       "  'Plain',\n",
       "  'Plain',\n",
       "  'Plain',\n",
       "  'Plain',\n",
       "  'Plain',\n",
       "  'Plain',\n",
       "  'Plain',\n",
       "  'Plain',\n",
       "  'Plain',\n",
       "  'Plain',\n",
       "  'Plain',\n",
       "  'Plain',\n",
       "  'Plain',\n",
       "  'Plain',\n",
       "  'Plain',\n",
       "  'Plain',\n",
       "  'Plain',\n",
       "  'Plain'))"
      ]
     },
     "execution_count": 8,
     "metadata": {},
     "output_type": "execute_result"
    }
   ],
   "source": [
    "# Zip the list - make the rows columns and the columns rows.\n",
    "# Interchanges the outer and inner lists.\n",
    "drink, biscuit = list(zip(*raw_data))\n",
    "\n",
    "# Show.\n",
    "drink, biscuit"
   ]
  },
  {
   "cell_type": "code",
   "execution_count": 9,
   "metadata": {},
   "outputs": [
    {
     "data": {
      "text/html": [
       "<div>\n",
       "<style scoped>\n",
       "    .dataframe tbody tr th:only-of-type {\n",
       "        vertical-align: middle;\n",
       "    }\n",
       "\n",
       "    .dataframe tbody tr th {\n",
       "        vertical-align: top;\n",
       "    }\n",
       "\n",
       "    .dataframe thead th {\n",
       "        text-align: right;\n",
       "    }\n",
       "</style>\n",
       "<table border=\"1\" class=\"dataframe\">\n",
       "  <thead>\n",
       "    <tr style=\"text-align: right;\">\n",
       "      <th></th>\n",
       "      <th>Drink</th>\n",
       "      <th>Biscuit</th>\n",
       "    </tr>\n",
       "  </thead>\n",
       "  <tbody>\n",
       "    <tr>\n",
       "      <th>0</th>\n",
       "      <td>Coffee</td>\n",
       "      <td>Chocolate</td>\n",
       "    </tr>\n",
       "    <tr>\n",
       "      <th>1</th>\n",
       "      <td>Coffee</td>\n",
       "      <td>Chocolate</td>\n",
       "    </tr>\n",
       "    <tr>\n",
       "      <th>2</th>\n",
       "      <td>Coffee</td>\n",
       "      <td>Chocolate</td>\n",
       "    </tr>\n",
       "    <tr>\n",
       "      <th>3</th>\n",
       "      <td>Coffee</td>\n",
       "      <td>Chocolate</td>\n",
       "    </tr>\n",
       "    <tr>\n",
       "      <th>4</th>\n",
       "      <td>Coffee</td>\n",
       "      <td>Chocolate</td>\n",
       "    </tr>\n",
       "    <tr>\n",
       "      <th>...</th>\n",
       "      <td>...</td>\n",
       "      <td>...</td>\n",
       "    </tr>\n",
       "    <tr>\n",
       "      <th>196</th>\n",
       "      <td>Tea</td>\n",
       "      <td>Plain</td>\n",
       "    </tr>\n",
       "    <tr>\n",
       "      <th>197</th>\n",
       "      <td>Tea</td>\n",
       "      <td>Plain</td>\n",
       "    </tr>\n",
       "    <tr>\n",
       "      <th>198</th>\n",
       "      <td>Tea</td>\n",
       "      <td>Plain</td>\n",
       "    </tr>\n",
       "    <tr>\n",
       "      <th>199</th>\n",
       "      <td>Tea</td>\n",
       "      <td>Plain</td>\n",
       "    </tr>\n",
       "    <tr>\n",
       "      <th>200</th>\n",
       "      <td>Tea</td>\n",
       "      <td>Plain</td>\n",
       "    </tr>\n",
       "  </tbody>\n",
       "</table>\n",
       "<p>201 rows × 2 columns</p>\n",
       "</div>"
      ],
      "text/plain": [
       "      Drink    Biscuit\n",
       "0    Coffee  Chocolate\n",
       "1    Coffee  Chocolate\n",
       "2    Coffee  Chocolate\n",
       "3    Coffee  Chocolate\n",
       "4    Coffee  Chocolate\n",
       "..      ...        ...\n",
       "196     Tea      Plain\n",
       "197     Tea      Plain\n",
       "198     Tea      Plain\n",
       "199     Tea      Plain\n",
       "200     Tea      Plain\n",
       "\n",
       "[201 rows x 2 columns]"
      ]
     },
     "execution_count": 9,
     "metadata": {},
     "output_type": "execute_result"
    }
   ],
   "source": [
    "# Create a data frame.\n",
    "df = pd.DataFrame({'Drink': drink, 'Biscuit': biscuit})\n",
    "\n",
    "# Show.\n",
    "df"
   ]
  },
  {
   "attachments": {},
   "cell_type": "markdown",
   "metadata": {},
   "source": [
    "## Contingency Table\n",
    "\n",
    "***"
   ]
  },
  {
   "cell_type": "code",
   "execution_count": 10,
   "metadata": {},
   "outputs": [
    {
     "name": "stdout",
     "output_type": "stream",
     "text": [
      "Biscuit  Chocolate  Plain\n",
      "Drink                    \n",
      "Coffee          43     57\n",
      "Tea             56     45\n"
     ]
    }
   ],
   "source": [
    "# Creating a contingency table with 'drink' and 'biscuit' columns\n",
    "contingency_table = pd.crosstab(df['Drink'], df['Biscuit'])\n",
    "\n",
    "# Show the contingency table\n",
    "print(contingency_table)"
   ]
  },
  {
   "cell_type": "code",
   "execution_count": 11,
   "metadata": {},
   "outputs": [
    {
     "data": {
      "text/plain": [
       "((array(['Chocolate', 'Plain'], dtype=object),\n",
       "  array(['Coffee', 'Tea'], dtype=object)),\n",
       " array([[43, 56],\n",
       "        [57, 45]]))"
      ]
     },
     "execution_count": 11,
     "metadata": {},
     "output_type": "execute_result"
    }
   ],
   "source": [
    "# Perform Crosstabs Contingency.\n",
    "cross = ss.contingency.crosstab(df['Biscuit'], df['Drink'])\n",
    "\n",
    "# Show.\n",
    "cross"
   ]
  },
  {
   "cell_type": "code",
   "execution_count": 12,
   "metadata": {},
   "outputs": [
    {
     "name": "stdout",
     "output_type": "stream",
     "text": [
      "(array(['Chocolate', 'Plain'], dtype=object), array(['Coffee', 'Tea'], dtype=object)) [[43 56]\n",
      " [57 45]]\n"
     ]
    }
   ],
   "source": [
    "# Assuming cross is a tuple with two elements\n",
    "first, second = cross  # Unpack the elements of the tuple\n",
    "\n",
    "# Show\n",
    "print(first, second)\n"
   ]
  },
  {
   "cell_type": "code",
   "execution_count": 15,
   "metadata": {},
   "outputs": [],
   "source": [
    "# Create a DataFrame with the provided data\n",
    "data = pd.DataFrame({'Biscuit': ['Chocolate', 'Plain'],\n",
    "                     'Coffee': [43, 57],\n",
    "                     'Tea': [56, 45]})\n",
    "\n",
    "# Set 'Biscuit' column as the index\n",
    "data.set_index('Biscuit', inplace=True)\n"
   ]
  },
  {
   "cell_type": "code",
   "execution_count": 17,
   "metadata": {},
   "outputs": [
    {
     "name": "stdout",
     "output_type": "stream",
     "text": [
      "Chi-squared statistic: 2.6359100836554257\n",
      "P-value: 0.10447218120907394\n"
     ]
    }
   ],
   "source": [
    "# Perform the chi-squared test\n",
    "chi2, p, _, _ = ss.chi2_contingency(data)\n",
    "\n",
    "# Output the results\n",
    "print(\"Chi-squared statistic:\", chi2)\n",
    "print(\"P-value:\", p)"
   ]
  },
  {
   "cell_type": "code",
   "execution_count": 18,
   "metadata": {},
   "outputs": [
    {
     "name": "stdout",
     "output_type": "stream",
     "text": [
      "There is no evidence of an association between drink preference and biscuit preference.\n"
     ]
    }
   ],
   "source": [
    "# Determine the significance level (alpha) for your test\n",
    "alpha = 0.05\n",
    "\n",
    "# Compare the p-value to alpha to make a decision\n",
    "if p < alpha:\n",
    "    print(\"There is evidence of an association between drink preference and biscuit preference.\")\n",
    "else:\n",
    "    print(\"There is no evidence of an association between drink preference and biscuit preference.\")"
   ]
  },
  {
   "cell_type": "markdown",
   "metadata": {},
   "source": [
    "## Notes\n",
    "***"
   ]
  }
 ],
 "metadata": {
  "kernelspec": {
   "display_name": "base",
   "language": "python",
   "name": "python3"
  },
  "language_info": {
   "codemirror_mode": {
    "name": "ipython",
    "version": 3
   },
   "file_extension": ".py",
   "mimetype": "text/x-python",
   "name": "python",
   "nbconvert_exporter": "python",
   "pygments_lexer": "ipython3",
   "version": "3.9.7"
  },
  "orig_nbformat": 4
 },
 "nbformat": 4,
 "nbformat_minor": 2
}
