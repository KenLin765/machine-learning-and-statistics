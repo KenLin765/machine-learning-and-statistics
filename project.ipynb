{
 "cells": [
  {
   "attachments": {},
   "cell_type": "markdown",
   "metadata": {},
   "source": [
    "# Project\n",
    "\n",
    "***"
   ]
  },
  {
   "cell_type": "markdown",
   "metadata": {},
   "source": [
    "This project will explore classification algorithms applied on the iris flower data set associated with Ronald\n",
    "A Fisher. I will firstly explain what supervised learning is and then explain what classification algorithms are. We will then look at one common classification algorithm and implement it using the scikit-learn Python library.\n",
    "\n",
    "I will start off by giving a brief overview on iris flower data set."
   ]
  },
  {
   "cell_type": "markdown",
   "metadata": {},
   "source": []
  },
  {
   "cell_type": "markdown",
   "metadata": {},
   "source": [
    "## What is the Iris Flower Data Set?\n",
    "\n",
    "This has been classed as a \"small classic dataset from Fisher, 1936\". One of the earliest known datasets used for evaluating classification methods. The data set contains 3 classes of 50 instances each, where each class refers to a type of iris plant. \n",
    "\n",
    "The dataset consists of 150 samples from each of three species of Iris flowers: Iris setosa, Iris virginica, and Iris versicolor. [1] For each sample, four features were measured:\n",
    "\n",
    "- Sepal Length (in centimeters)\n",
    "- Sepal Width (in centimeters)\n",
    "- Petal Length (in centimeters)\n",
    "- Petal Width (in centimeters)"
   ]
  },
  {
   "cell_type": "markdown",
   "metadata": {},
   "source": [
    "# References\n",
    "\n",
    "- [1] Iris – UCI Machine Learning Repository. Aug. 17, 2023. url: https://archive.ics.uci.edu/dataset/53/iris(visited on 01/11/2023)."
   ]
  }
 ],
 "metadata": {
  "kernelspec": {
   "display_name": "base",
   "language": "python",
   "name": "python3"
  },
  "language_info": {
   "codemirror_mode": {
    "name": "ipython",
    "version": 3
   },
   "file_extension": ".py",
   "mimetype": "text/x-python",
   "name": "python",
   "nbconvert_exporter": "python",
   "pygments_lexer": "ipython3",
   "version": "3.9.7"
  },
  "orig_nbformat": 4
 },
 "nbformat": 4,
 "nbformat_minor": 2
}
