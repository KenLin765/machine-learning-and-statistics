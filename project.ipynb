{
 "cells": [
  {
   "attachments": {},
   "cell_type": "markdown",
   "metadata": {},
   "source": [
    "# Project\n",
    "\n",
    "***"
   ]
  },
  {
   "cell_type": "markdown",
   "metadata": {},
   "source": [
    "This project will explore classification algorithms applied on the iris flower data set associated with Ronald\n",
    "A Fisher. I will firstly explain what supervised learning is and then explain what classification algorithms are. We will then look at one common classification algorithm and implement it using the scikit-learn Python library.\n",
    "\n",
    "I will start off by giving a brief overview on iris flower data set."
   ]
  },
  {
   "cell_type": "markdown",
   "metadata": {},
   "source": [
    "## What is the Iris Flower Data Set?\n",
    "\n",
    "This has been classed as a \"small classic dataset from Fisher, 1936\". One of the earliest known datasets used for evaluating classification methods. The data set contains 3 classes of 50 instances each, where each class refers to a type of iris plant. \n",
    "\n",
    "The dataset consists of 150 samples from each of three species of Iris flowers: Iris setosa, Iris virginica, and Iris versicolor. [1] For each sample, four features were measured:\n",
    "\n",
    "- Sepal Length (in centimeters)\n",
    "- Sepal Width (in centimeters)\n",
    "- Petal Length (in centimeters)\n",
    "- Petal Width (in centimeters)"
   ]
  },
  {
   "cell_type": "markdown",
   "metadata": {},
   "source": [
    "# What is Supervised Learning?\n",
    "\n",
    "The tasks of supervised learning are clearly defined and can be employed in a wide range of scenarios, such as detecting spam or forecasting rainfall. Supervised machine learning is based on the following core concepts: Data, Model, Training, Evaluating and Inferance. [2] I will briefly investigate these topics further to give an understanding of these core concepts.\n",
    "\n",
    "- Data: we might have a dataset of movies released in 2023 or information on weather. For movies in 2023, we might have a dataset which consists of director, genre, IMDB rating etc. If it was a weather model to predict weather, we may see features such as latitude, longitude, temperature, humidity, cloud coverage, wind direction, and atmospheric pressure.\n",
    "\n",
    "- Model: In the context of supervised learning, a model refers to a sophisticated set of parameters that encapsulates the intricate mathematical relationship between particular input feature patterns and corresponding output label values. During the training process, the model learns and discerns these patterns from the provided data.\n",
    "\n",
    "- Training: Training a ML model involves using a machine learning algorithm to training data, allowing it to learn and adapt. ML models allows us to efficiently handling vast datasets, recognizing patterns, detecting anomalies, and exploring correlations that might be challenging for a human to accomplish. resulting in a working model that can then be validated, tested and deployed. The model’s performance during training will eventually determine how well it will work when it is eventually put into an application for the end-users. [3] An example of this maybe a image recognition ML model which might be used to detect cancerous cells by comparing cells are malignant or benign and using the data found to predict whether there may be a cancerous cell. With more and more data learned by the model, we will get better data in order to forecast the probability of someone having cancerous cells.\n",
    "\n",
    "- Evaluating: We assess a trained model to gauge its learning effectiveness. During evaluation, we provide the model with a labeled dataset, supplying only the features while withholding the actual labels. Subsequently, we compare the model's predictions with the true values of the labels. An example of this might be to have the rainfall for Ireland for 2022, but a predicted model was created predicted 31 inches, when actually 34 inches fell, we can use the knowledge to predict a better pattern in 2024.\n",
    "\n",
    "- Inferance: We can use the model to make predictions, called inferences, on unlabeled examples when we know that the model is accurate or very close to an accurate level. For example for weather, we would give the model the current weather conditions—like temperature, atmospheric pressure, and relative humidity—and it would predict the amount of rainfall.\n",
    "\n",
    "\n",
    "\n"
   ]
  },
  {
   "cell_type": "markdown",
   "metadata": {},
   "source": [
    "# References\n",
    "\n",
    "- [1] Iris – UCI Machine Learning Repository. Aug. 17, 2023. url: https://archive.ics.uci.edu/dataset/53/iris(visited on 01/11/2023).\n",
    "\n",
    "- [2] Supervised learning&nbsp; |&nbsp; machine learning&nbsp; |&nbsp; google for developers (no date) Google. Available at: https://developers.google.com/machine-learning/intro-to-ml/supervised (Accessed: 01 November 2023). \n",
    "\n",
    "- [3] Weedmark, D. (2023) Machine learning model training: What it is and why it’s important, Domino Data Lab. Available at: https://domino.ai/blog/what-is-machine-learning-model-training (Accessed: 03 December 2023). "
   ]
  }
 ],
 "metadata": {
  "kernelspec": {
   "display_name": "base",
   "language": "python",
   "name": "python3"
  },
  "language_info": {
   "codemirror_mode": {
    "name": "ipython",
    "version": 3
   },
   "file_extension": ".py",
   "mimetype": "text/x-python",
   "name": "python",
   "nbconvert_exporter": "python",
   "pygments_lexer": "ipython3",
   "version": "3.9.7"
  },
  "orig_nbformat": 4
 },
 "nbformat": 4,
 "nbformat_minor": 2
}
